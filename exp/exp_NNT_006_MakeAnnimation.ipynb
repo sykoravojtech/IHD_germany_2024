{
 "cells": [
  {
   "cell_type": "code",
   "execution_count": 2,
   "metadata": {},
   "outputs": [],
   "source": [
    "import numpy as np\n",
    "import matplotlib.pyplot as plt\n",
    "import imageio\n",
    "import os\n",
    "import pandas as pd\n",
    "import geopandas as gpd"
   ]
  },
  {
   "cell_type": "code",
   "execution_count": 9,
   "metadata": {},
   "outputs": [],
   "source": [
    "df = pd.read_csv('../data/final/gbd_cardiovascular_allAges_final.csv')"
   ]
  },
  {
   "cell_type": "code",
   "execution_count": 11,
   "metadata": {},
   "outputs": [],
   "source": [
    "death_df = df[(df.measure_name == \"Deaths\")]"
   ]
  },
  {
   "cell_type": "code",
   "execution_count": 13,
   "metadata": {},
   "outputs": [],
   "source": [
    "death_df = death_df.rename({'Country Code': 'iso_a3'}, axis=1)"
   ]
  },
  {
   "cell_type": "code",
   "execution_count": 18,
   "metadata": {},
   "outputs": [
    {
     "data": {
      "text/html": [
       "<div>\n",
       "<style scoped>\n",
       "    .dataframe tbody tr th:only-of-type {\n",
       "        vertical-align: middle;\n",
       "    }\n",
       "\n",
       "    .dataframe tbody tr th {\n",
       "        vertical-align: top;\n",
       "    }\n",
       "\n",
       "    .dataframe thead th {\n",
       "        text-align: right;\n",
       "    }\n",
       "</style>\n",
       "<table border=\"1\" class=\"dataframe\">\n",
       "  <thead>\n",
       "    <tr style=\"text-align: right;\">\n",
       "      <th></th>\n",
       "      <th>measure_name</th>\n",
       "      <th>location_name</th>\n",
       "      <th>metric_name</th>\n",
       "      <th>year</th>\n",
       "      <th>val</th>\n",
       "      <th>iso_a3</th>\n",
       "    </tr>\n",
       "  </thead>\n",
       "  <tbody>\n",
       "    <tr>\n",
       "      <th>0</th>\n",
       "      <td>Deaths</td>\n",
       "      <td>Global</td>\n",
       "      <td>Percent</td>\n",
       "      <td>1990</td>\n",
       "      <td>0.258754</td>\n",
       "      <td>GLB</td>\n",
       "    </tr>\n",
       "    <tr>\n",
       "      <th>1</th>\n",
       "      <td>Deaths</td>\n",
       "      <td>Global</td>\n",
       "      <td>Rate</td>\n",
       "      <td>1990</td>\n",
       "      <td>225.584376</td>\n",
       "      <td>GLB</td>\n",
       "    </tr>\n",
       "    <tr>\n",
       "      <th>2</th>\n",
       "      <td>Deaths</td>\n",
       "      <td>Timor-Leste</td>\n",
       "      <td>Percent</td>\n",
       "      <td>1990</td>\n",
       "      <td>0.080068</td>\n",
       "      <td>TLS</td>\n",
       "    </tr>\n",
       "    <tr>\n",
       "      <th>3</th>\n",
       "      <td>Deaths</td>\n",
       "      <td>Timor-Leste</td>\n",
       "      <td>Rate</td>\n",
       "      <td>1990</td>\n",
       "      <td>79.809246</td>\n",
       "      <td>TLS</td>\n",
       "    </tr>\n",
       "    <tr>\n",
       "      <th>4</th>\n",
       "      <td>Deaths</td>\n",
       "      <td>Japan</td>\n",
       "      <td>Percent</td>\n",
       "      <td>1990</td>\n",
       "      <td>0.348712</td>\n",
       "      <td>JPN</td>\n",
       "    </tr>\n",
       "  </tbody>\n",
       "</table>\n",
       "</div>"
      ],
      "text/plain": [
       "  measure_name location_name metric_name  year         val iso_a3\n",
       "0       Deaths        Global     Percent  1990    0.258754    GLB\n",
       "1       Deaths        Global        Rate  1990  225.584376    GLB\n",
       "2       Deaths   Timor-Leste     Percent  1990    0.080068    TLS\n",
       "3       Deaths   Timor-Leste        Rate  1990   79.809246    TLS\n",
       "4       Deaths         Japan     Percent  1990    0.348712    JPN"
      ]
     },
     "execution_count": 18,
     "metadata": {},
     "output_type": "execute_result"
    }
   ],
   "source": [
    "death_df.head()"
   ]
  },
  {
   "cell_type": "code",
   "execution_count": 28,
   "metadata": {},
   "outputs": [],
   "source": [
    "import sys\n",
    "sys.path.append('..')\n",
    "from src.plotting import custom_cmap\n",
    "\n",
    "from tueplots import bundles\n",
    "from tueplots.constants.color import rgb\n",
    "from matplotlib.colors import LinearSegmentedColormap"
   ]
  },
  {
   "cell_type": "code",
   "execution_count": 59,
   "metadata": {},
   "outputs": [],
   "source": [
    "blue = rgb.tue_blue\n",
    "red = rgb.tue_red\n",
    "# make red a bit lighter, but not towards pink, less blue\n",
    "red = (red[0]*1.5, red[1] * 0.8, red[2] * 0.8)\n",
    "# Create a colormap\n",
    "cmap = LinearSegmentedColormap.from_list('blue_to_red', [blue, red])\n"
   ]
  },
  {
   "cell_type": "code",
   "execution_count": 76,
   "metadata": {},
   "outputs": [],
   "source": [
    "# Load the world map data using geopandas\n",
    "plt.rcParams.update(bundles.icml2022(column=\"full\", ncols=2, nrows=1))\n",
    "\n",
    "def plot_world_map(filename, data, country_col, measured_col, label, year):\n",
    "    \n",
    "    world = gpd.read_file(gpd.datasets.get_path('naturalearth_lowres'))\n",
    "\n",
    "    # Merge your data with the geopandas DataFrame using country names\n",
    "    merged = world.merge(data[data.year==year], how='left', left_on='iso_a3', right_on=country_col)\n",
    "\n",
    "    # Fill NaN values (countries with no deaths) with 0\n",
    "    merged[measured_col] = merged[measured_col].fillna(0)\n",
    "    \n",
    "    # Plotting the map\n",
    "    # fig, ax = plt.subplots(1, 1, figsize=(15, 10))\n",
    "    ax = merged.plot(column=measured_col, cmap=cmap, linewidth=0.2, edgecolor='0.2', legend=True,\n",
    "                legend_kwds={'label': label, 'orientation': \"horizontal\"}, vmin=0, vmax=1000,\n",
    "               )\n",
    "    ax.set_title(f'{label} of Ischemic heart disease by countries in year {year}')\n",
    "\n",
    "    ax.axis('off')\n",
    "\n",
    "    chart = ax.get_figure()\n",
    "    chart.savefig(filename, dpi=600)\n",
    "    plt.close()\n",
    "    # return ax"
   ]
  },
  {
   "cell_type": "code",
   "execution_count": 78,
   "metadata": {},
   "outputs": [],
   "source": [
    "filenames = []\n",
    "for year in range(1990, 2020):\n",
    "    filename = f'year_{year}.png'\n",
    "    plot_world_map(filename, death_df, country_col='iso_a3', measured_col='val',  label=\"Death Rate\", year=year)\n",
    "    filenames.append(filename)\n",
    "\n",
    "# Create gif\n",
    "with imageio.get_writer('world_map_CVDs_by_year.gif', mode='I', duration=0.3) as writer:\n",
    "    for filename in filenames:\n",
    "        image = imageio.imread(filename)\n",
    "        writer.append_data(image)\n",
    "\n",
    "# Remove files\n",
    "for filename in filenames:\n",
    "    os.remove(filename)"
   ]
  },
  {
   "cell_type": "code",
   "execution_count": null,
   "metadata": {},
   "outputs": [],
   "source": []
  },
  {
   "cell_type": "code",
   "execution_count": null,
   "metadata": {},
   "outputs": [],
   "source": []
  }
 ],
 "metadata": {
  "kernelspec": {
   "display_name": "Python 3.7.11 ('py3')",
   "language": "python",
   "name": "python3"
  },
  "language_info": {
   "codemirror_mode": {
    "name": "ipython",
    "version": 3
   },
   "file_extension": ".py",
   "mimetype": "text/x-python",
   "name": "python",
   "nbconvert_exporter": "python",
   "pygments_lexer": "ipython3",
   "version": "3.7.11"
  },
  "orig_nbformat": 4,
  "vscode": {
   "interpreter": {
    "hash": "d7b89e158b719c02a21186c9646700ecf5a8cc5b1b6f738df9b6ffa75e5e74e4"
   }
  }
 },
 "nbformat": 4,
 "nbformat_minor": 2
}
