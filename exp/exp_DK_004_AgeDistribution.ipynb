{
 "cells": [
  {
   "cell_type": "code",
   "execution_count": 2,
   "metadata": {},
   "outputs": [],
   "source": [
    "import numpy as np\n",
    "import pandas as pd\n",
    "from tueplots.constants.color import rgb\n",
    "from tueplots import bundles\n",
    "import matplotlib.pyplot as plt\n"
   ]
  },
  {
   "cell_type": "code",
   "execution_count": 3,
   "metadata": {},
   "outputs": [],
   "source": [
    "DATA_PATH = '../data/final'\n",
    "OUTPUT_PATH = 'output'\n",
    "cvd_data_path = f'{DATA_PATH}/gbd_cardiovascular_ageRanges_final.csv'"
   ]
  },
  {
   "cell_type": "code",
   "execution_count": 4,
   "metadata": {},
   "outputs": [],
   "source": [
    "# Grouping into 10 year age groups\n",
    "def group_ages(df, age_groups, new_age_group):\n",
    "    filtered_rows = df[df['age_name'].isin(age_groups)]\n",
    "\n",
    "    summed_rows = filtered_rows.groupby(['location_name', 'year']).sum().reset_index()\n",
    "    summed_rows['age_name'] = new_age_group\n",
    "    \n",
    "    df = pd.concat([df, summed_rows], ignore_index=True)\n",
    "    df = df[~df['age_name'].isin(age_groups)]\n",
    "    \n",
    "    return df"
   ]
  },
  {
   "cell_type": "code",
   "execution_count": 5,
   "metadata": {},
   "outputs": [],
   "source": [
    "df = pd.read_csv(cvd_data_path)\n",
    "df = df[(df['metric_name'] == 'Rate') & (df['measure_name'] == 'Incidence') & (df['age_name'] != 'All ages')]\n",
    "\n",
    "df = group_ages(df, ['20-24 years', '25-29 years'], '20-29')\n",
    "df = group_ages(df, ['30-34 years', '35-39 years'], '30-39')\n",
    "df = group_ages(df, ['40-44 years', '45-49 years'], '40-49')\n",
    "df = group_ages(df, ['50-54 years', '55-59 years'], '50-59')\n",
    "df = group_ages(df, ['60-64 years', '65-69 years'], '60-69')\n",
    "df = group_ages(df, ['70-74 years', '75-79 years'], '70-79')\n",
    "df = group_ages(df, ['80-84', '85-89'], '80-89')\n",
    "df = group_ages(df, ['90-94', '95+ years'], '90+')\n",
    "df['age_name'] = df['age_name'].str.replace(' years', '')\n",
    "\n",
    "df.drop(columns=['measure_name', 'metric_name'], inplace=True)\n",
    "df = df.groupby(['location_name', 'age_name']).mean().reset_index()\n",
    "df.drop(columns=['year'], inplace=True)"
   ]
  },
  {
   "cell_type": "code",
   "execution_count": 17,
   "metadata": {},
   "outputs": [
    {
     "data": {
      "image/png": "[encoded data removed]",
      "text/plain": [
       "<Figure size 325x100.431 with 1 Axes>"
      ]
     },
     "metadata": {},
     "output_type": "display_data"
    }
   ],
   "source": [
    "plt.rcParams.update(bundles.icml2022(column=\"half\", ncols=2, nrows=1))\n",
    "\n",
    "age_groups = sorted(df['age_name'].unique())\n",
    "\n",
    "color_scheme = {'Global': rgb.tue_blue, 'High-income': rgb.tue_orange, 'Germany': rgb.tue_red}\n",
    "\n",
    "bar_width = 0.2\n",
    "\n",
    "for i, (country, color) in enumerate(color_scheme.items()):\n",
    "    country_df = df[df['location_name'] == country]\n",
    "    \n",
    "    total_incidence = country_df['val'].sum()  # Calculate the total incidence rate for the country\n",
    "    \n",
    "    x = np.arange(len(age_groups))\n",
    "    plt.bar(x + i * bar_width, country_df['val'] / total_incidence * 100, width=bar_width, color=color, label=country)  # Calculate the percentage\n",
    "    \n",
    "plt.xticks(np.arange(len(age_groups)) + (len(color_scheme) * bar_width) / 2, age_groups)\n",
    "\n",
    "plt.xlabel('Age group')\n",
    "plt.ylabel('Incidence (\\%)')\n",
    "\n",
    "plt.yticks([0, 10, 20, 30])  # Set the yticks to 0, 10, 20, 30\n",
    "\n",
    "plt.title('Cardiovascular diseases by age group, average 1990-2019')\n",
    "plt.legend()\n",
    "# plt.legend(ncol=3, loc='lower left', bbox_to_anchor=(0.2, -0.9))\n",
    "plt.show()\n"
   ]
  }
 ],
 "metadata": {
  "kernelspec": {
   "display_name": ".venv",
   "language": "python",
   "name": "python3"
  },
  "language_info": {
   "codemirror_mode": {
    "name": "ipython",
    "version": 3
   },
   "file_extension": ".py",
   "mimetype": "text/x-python",
   "name": "python",
   "nbconvert_exporter": "python",
   "pygments_lexer": "ipython3",
   "version": "3.10.0"
  }
 },
 "nbformat": 4,
 "nbformat_minor": 2
}
