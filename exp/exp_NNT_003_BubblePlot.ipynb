{
 "cells": [
  {
   "cell_type": "code",
   "execution_count": 20,
   "metadata": {},
   "outputs": [
    {
     "name": "stdout",
     "output_type": "stream",
     "text": [
      "The autoreload extension is already loaded. To reload it, use:\n",
      "  %reload_ext autoreload\n"
     ]
    }
   ],
   "source": [
    "import os\n",
    "import sys\n",
    "from sys import platform\n",
    "from pathlib import Path\n",
    "\n",
    "import pandas as pd\n",
    "import numpy as np\n",
    "import seaborn as sns\n",
    "\n",
    "# Add the parent directory to the sys.path (without this we cannot import constants or scripts)\n",
    "sys.path.insert(0, str(Path.cwd().parent))\n",
    "from src.plotting import plot_comparison_GER_HIC_GLO\n",
    "from constants.countries import highincome_countries\n",
    "from src.utils import get_iso3_gbd, generate_high_income_global_avg_index\n",
    "\n",
    "%load_ext autoreload"
   ]
  },
  {
   "cell_type": "code",
   "execution_count": 21,
   "metadata": {},
   "outputs": [],
   "source": [
    "import matplotlib.pyplot as plt \n",
    "\n",
    "from tueplots import bundles"
   ]
  },
  {
   "cell_type": "code",
   "execution_count": 22,
   "metadata": {},
   "outputs": [],
   "source": [
    "# if platform == 'darwin': # macos\n",
    "#     print('mac os')\n",
    "#     os.environ[\"PATH\"] += os.pathsep + '/Library/TeX/texbin'"
   ]
  },
  {
   "cell_type": "code",
   "execution_count": 23,
   "metadata": {},
   "outputs": [],
   "source": [
    "DATA_PATH = '../data/final'\n",
    "OUTPUT_PATH = '../doc/IHD_germany_2024/fig'\n",
    "cvd_data_path = f'{DATA_PATH}/gbd_ischemicHeartDisease_DeathsIncidence.csv'\n",
    "YEAR_COLUMN_NAME = 'year'\n",
    "VALUE_COLUMN_NAME = 'val'"
   ]
  },
  {
   "cell_type": "markdown",
   "metadata": {},
   "source": [
    "## Load Data"
   ]
  },
  {
   "cell_type": "code",
   "execution_count": 26,
   "metadata": {},
   "outputs": [
    {
     "data": {
      "text/html": [
       "<div>\n",
       "<style scoped>\n",
       "    .dataframe tbody tr th:only-of-type {\n",
       "        vertical-align: middle;\n",
       "    }\n",
       "\n",
       "    .dataframe tbody tr th {\n",
       "        vertical-align: top;\n",
       "    }\n",
       "\n",
       "    .dataframe thead th {\n",
       "        text-align: right;\n",
       "    }\n",
       "</style>\n",
       "<table border=\"1\" class=\"dataframe\">\n",
       "  <thead>\n",
       "    <tr style=\"text-align: right;\">\n",
       "      <th></th>\n",
       "      <th>measure_name</th>\n",
       "      <th>location_name</th>\n",
       "      <th>cause_name</th>\n",
       "      <th>year</th>\n",
       "      <th>Value</th>\n",
       "      <th>upper</th>\n",
       "      <th>lower</th>\n",
       "      <th>country_code</th>\n",
       "    </tr>\n",
       "  </thead>\n",
       "  <tbody>\n",
       "    <tr>\n",
       "      <th>0</th>\n",
       "      <td>Deaths</td>\n",
       "      <td>Greece</td>\n",
       "      <td>Ischemic heart disease</td>\n",
       "      <td>1990</td>\n",
       "      <td>198.963673</td>\n",
       "      <td>206.809839</td>\n",
       "      <td>187.732342</td>\n",
       "      <td>GRC</td>\n",
       "    </tr>\n",
       "    <tr>\n",
       "      <th>1</th>\n",
       "      <td>Deaths</td>\n",
       "      <td>Lesotho</td>\n",
       "      <td>Ischemic heart disease</td>\n",
       "      <td>1990</td>\n",
       "      <td>38.577482</td>\n",
       "      <td>47.023134</td>\n",
       "      <td>29.860005</td>\n",
       "      <td>LSO</td>\n",
       "    </tr>\n",
       "    <tr>\n",
       "      <th>2</th>\n",
       "      <td>Deaths</td>\n",
       "      <td>Djibouti</td>\n",
       "      <td>Ischemic heart disease</td>\n",
       "      <td>1990</td>\n",
       "      <td>19.784015</td>\n",
       "      <td>25.606502</td>\n",
       "      <td>15.357142</td>\n",
       "      <td>DJI</td>\n",
       "    </tr>\n",
       "    <tr>\n",
       "      <th>3</th>\n",
       "      <td>Deaths</td>\n",
       "      <td>Global</td>\n",
       "      <td>Ischemic heart disease</td>\n",
       "      <td>1990</td>\n",
       "      <td>106.468267</td>\n",
       "      <td>110.197494</td>\n",
       "      <td>101.034486</td>\n",
       "      <td>GLB</td>\n",
       "    </tr>\n",
       "    <tr>\n",
       "      <th>4</th>\n",
       "      <td>Deaths</td>\n",
       "      <td>Chile</td>\n",
       "      <td>Ischemic heart disease</td>\n",
       "      <td>1990</td>\n",
       "      <td>82.872330</td>\n",
       "      <td>85.753086</td>\n",
       "      <td>78.615036</td>\n",
       "      <td>CHL</td>\n",
       "    </tr>\n",
       "    <tr>\n",
       "      <th>...</th>\n",
       "      <td>...</td>\n",
       "      <td>...</td>\n",
       "      <td>...</td>\n",
       "      <td>...</td>\n",
       "      <td>...</td>\n",
       "      <td>...</td>\n",
       "      <td>...</td>\n",
       "      <td>...</td>\n",
       "    </tr>\n",
       "    <tr>\n",
       "      <th>6175</th>\n",
       "      <td>Deaths</td>\n",
       "      <td>Egypt</td>\n",
       "      <td>Ischemic heart disease</td>\n",
       "      <td>2019</td>\n",
       "      <td>183.592812</td>\n",
       "      <td>235.826570</td>\n",
       "      <td>140.263637</td>\n",
       "      <td>EGY</td>\n",
       "    </tr>\n",
       "    <tr>\n",
       "      <th>6176</th>\n",
       "      <td>Deaths</td>\n",
       "      <td>Sweden</td>\n",
       "      <td>Ischemic heart disease</td>\n",
       "      <td>2019</td>\n",
       "      <td>185.615296</td>\n",
       "      <td>206.258708</td>\n",
       "      <td>162.007861</td>\n",
       "      <td>SWE</td>\n",
       "    </tr>\n",
       "    <tr>\n",
       "      <th>6177</th>\n",
       "      <td>Deaths</td>\n",
       "      <td>Palau</td>\n",
       "      <td>Ischemic heart disease</td>\n",
       "      <td>2019</td>\n",
       "      <td>226.686367</td>\n",
       "      <td>283.109676</td>\n",
       "      <td>181.515902</td>\n",
       "      <td>PLW</td>\n",
       "    </tr>\n",
       "    <tr>\n",
       "      <th>6178</th>\n",
       "      <td>Deaths</td>\n",
       "      <td>Yemen</td>\n",
       "      <td>Ischemic heart disease</td>\n",
       "      <td>2019</td>\n",
       "      <td>102.545335</td>\n",
       "      <td>133.696347</td>\n",
       "      <td>82.594918</td>\n",
       "      <td>YEM</td>\n",
       "    </tr>\n",
       "    <tr>\n",
       "      <th>6179</th>\n",
       "      <td>Deaths</td>\n",
       "      <td>Cyprus</td>\n",
       "      <td>Ischemic heart disease</td>\n",
       "      <td>2019</td>\n",
       "      <td>121.489229</td>\n",
       "      <td>144.263054</td>\n",
       "      <td>106.120277</td>\n",
       "      <td>CYP</td>\n",
       "    </tr>\n",
       "  </tbody>\n",
       "</table>\n",
       "<p>6180 rows × 8 columns</p>\n",
       "</div>"
      ],
      "text/plain": [
       "     measure_name location_name              cause_name  year       Value  \\\n",
       "0          Deaths        Greece  Ischemic heart disease  1990  198.963673   \n",
       "1          Deaths       Lesotho  Ischemic heart disease  1990   38.577482   \n",
       "2          Deaths      Djibouti  Ischemic heart disease  1990   19.784015   \n",
       "3          Deaths        Global  Ischemic heart disease  1990  106.468267   \n",
       "4          Deaths         Chile  Ischemic heart disease  1990   82.872330   \n",
       "...           ...           ...                     ...   ...         ...   \n",
       "6175       Deaths         Egypt  Ischemic heart disease  2019  183.592812   \n",
       "6176       Deaths        Sweden  Ischemic heart disease  2019  185.615296   \n",
       "6177       Deaths         Palau  Ischemic heart disease  2019  226.686367   \n",
       "6178       Deaths         Yemen  Ischemic heart disease  2019  102.545335   \n",
       "6179       Deaths        Cyprus  Ischemic heart disease  2019  121.489229   \n",
       "\n",
       "           upper       lower country_code  \n",
       "0     206.809839  187.732342          GRC  \n",
       "1      47.023134   29.860005          LSO  \n",
       "2      25.606502   15.357142          DJI  \n",
       "3     110.197494  101.034486          GLB  \n",
       "4      85.753086   78.615036          CHL  \n",
       "...          ...         ...          ...  \n",
       "6175  235.826570  140.263637          EGY  \n",
       "6176  206.258708  162.007861          SWE  \n",
       "6177  283.109676  181.515902          PLW  \n",
       "6178  133.696347   82.594918          YEM  \n",
       "6179  144.263054  106.120277          CYP  \n",
       "\n",
       "[6180 rows x 8 columns]"
      ]
     },
     "execution_count": 26,
     "metadata": {},
     "output_type": "execute_result"
    }
   ],
   "source": [
    "df = pd.read_csv(cvd_data_path)\n",
    "df = df[df.measure_name=='Deaths']\n",
    "df['country_code'] = df['location_name'].map(get_iso3_gbd)\n",
    "df"
   ]
  },
  {
   "cell_type": "code",
   "execution_count": 27,
   "metadata": {},
   "outputs": [],
   "source": [
    "df = df[['location_name', 'country_code', 'year', 'Value']]\n",
    "df.columns = ['Country Name', 'Country Code', 'Year', 'IHD']"
   ]
  },
  {
   "cell_type": "code",
   "execution_count": 28,
   "metadata": {},
   "outputs": [
    {
     "data": {
      "text/plain": [
       "206"
      ]
     },
     "execution_count": 28,
     "metadata": {},
     "output_type": "execute_result"
    }
   ],
   "source": [
    "df['Country Code'].nunique()"
   ]
  },
  {
   "cell_type": "code",
   "execution_count": 29,
   "metadata": {},
   "outputs": [
    {
     "data": {
      "text/html": [
       "<div>\n",
       "<style scoped>\n",
       "    .dataframe tbody tr th:only-of-type {\n",
       "        vertical-align: middle;\n",
       "    }\n",
       "\n",
       "    .dataframe tbody tr th {\n",
       "        vertical-align: top;\n",
       "    }\n",
       "\n",
       "    .dataframe thead th {\n",
       "        text-align: right;\n",
       "    }\n",
       "</style>\n",
       "<table border=\"1\" class=\"dataframe\">\n",
       "  <thead>\n",
       "    <tr style=\"text-align: right;\">\n",
       "      <th></th>\n",
       "      <th>Country Code</th>\n",
       "      <th>Year</th>\n",
       "      <th>HealthInd</th>\n",
       "    </tr>\n",
       "  </thead>\n",
       "  <tbody>\n",
       "    <tr>\n",
       "      <th>0</th>\n",
       "      <td>AUS</td>\n",
       "      <td>1971</td>\n",
       "      <td>212.545</td>\n",
       "    </tr>\n",
       "    <tr>\n",
       "      <th>1</th>\n",
       "      <td>AUS</td>\n",
       "      <td>1972</td>\n",
       "      <td>226.524</td>\n",
       "    </tr>\n",
       "    <tr>\n",
       "      <th>2</th>\n",
       "      <td>AUS</td>\n",
       "      <td>1973</td>\n",
       "      <td>251.085</td>\n",
       "    </tr>\n",
       "    <tr>\n",
       "      <th>3</th>\n",
       "      <td>AUS</td>\n",
       "      <td>1974</td>\n",
       "      <td>306.927</td>\n",
       "    </tr>\n",
       "    <tr>\n",
       "      <th>4</th>\n",
       "      <td>AUS</td>\n",
       "      <td>1975</td>\n",
       "      <td>374.393</td>\n",
       "    </tr>\n",
       "    <tr>\n",
       "      <th>...</th>\n",
       "      <td>...</td>\n",
       "      <td>...</td>\n",
       "      <td>...</td>\n",
       "    </tr>\n",
       "    <tr>\n",
       "      <th>1732</th>\n",
       "      <td>PER</td>\n",
       "      <td>2016</td>\n",
       "      <td>622.679</td>\n",
       "    </tr>\n",
       "    <tr>\n",
       "      <th>1733</th>\n",
       "      <td>PER</td>\n",
       "      <td>2017</td>\n",
       "      <td>623.425</td>\n",
       "    </tr>\n",
       "    <tr>\n",
       "      <th>1734</th>\n",
       "      <td>PER</td>\n",
       "      <td>2018</td>\n",
       "      <td>686.332</td>\n",
       "    </tr>\n",
       "    <tr>\n",
       "      <th>1735</th>\n",
       "      <td>PER</td>\n",
       "      <td>2019</td>\n",
       "      <td>702.355</td>\n",
       "    </tr>\n",
       "    <tr>\n",
       "      <th>1736</th>\n",
       "      <td>PER</td>\n",
       "      <td>2020</td>\n",
       "      <td>759.475</td>\n",
       "    </tr>\n",
       "  </tbody>\n",
       "</table>\n",
       "<p>1737 rows × 3 columns</p>\n",
       "</div>"
      ],
      "text/plain": [
       "     Country Code  Year  HealthInd\n",
       "0             AUS  1971    212.545\n",
       "1             AUS  1972    226.524\n",
       "2             AUS  1973    251.085\n",
       "3             AUS  1974    306.927\n",
       "4             AUS  1975    374.393\n",
       "...           ...   ...        ...\n",
       "1732          PER  2016    622.679\n",
       "1733          PER  2017    623.425\n",
       "1734          PER  2018    686.332\n",
       "1735          PER  2019    702.355\n",
       "1736          PER  2020    759.475\n",
       "\n",
       "[1737 rows x 3 columns]"
      ]
     },
     "execution_count": 29,
     "metadata": {},
     "output_type": "execute_result"
    }
   ],
   "source": [
    "health_df = pd.read_csv('../data/raw/oecd_healthSpending.csv')\n",
    "health_df.rename(columns={'LOCATION': 'Country Code', 'TIME': 'Year', 'Value': 'HealthInd'}, inplace=True)\n",
    "health_df.drop(columns=['INDICATOR', 'SUBJECT', 'MEASURE', 'FREQUENCY', 'Flag Codes'], inplace=True)\n",
    "health_df"
   ]
  },
  {
   "cell_type": "code",
   "execution_count": 30,
   "metadata": {},
   "outputs": [],
   "source": [
    "# health_df = pd.read_csv(DATA_PATH+'/oecd_combined_final.csv')\n",
    "# health_df = health_df.rename({'Value': 'HealthInd'}, axis=1).drop(['Country Name', 'Series Name'], axis=1)"
   ]
  },
  {
   "cell_type": "code",
   "execution_count": 31,
   "metadata": {},
   "outputs": [],
   "source": [
    "fat_df = pd.read_csv(DATA_PATH+'/daily_per_capita_fat_supply_final.csv')\n",
    "fat_df = fat_df.rename({'Value': 'Fat'}, axis=1).drop(['Country Name', 'Series Name'], axis=1)"
   ]
  },
  {
   "cell_type": "code",
   "execution_count": 32,
   "metadata": {},
   "outputs": [],
   "source": [
    "alc_df = pd.read_csv('../data/raw/alcohol_germany.csv')\n",
    "alc_df = alc_df[['LOCATION', 'TIME', 'Value']]\n",
    "alc_df.columns = ['Country Code', 'Year', 'Alcohol']\n",
    "# alc_df = alc_df.rename({'Value': 'Alcohol'}, axis=1).drop(['Country Name', 'Series Name'], axis=1)"
   ]
  },
  {
   "cell_type": "code",
   "execution_count": 33,
   "metadata": {},
   "outputs": [
    {
     "data": {
      "text/plain": [
       "49"
      ]
     },
     "execution_count": 33,
     "metadata": {},
     "output_type": "execute_result"
    }
   ],
   "source": [
    "alc_df['Country Code'].nunique()"
   ]
  },
  {
   "cell_type": "code",
   "execution_count": 34,
   "metadata": {},
   "outputs": [],
   "source": [
    "age_df = pd.read_csv('../data/raw/median-age.csv')\n",
    "age_df = age_df[['Code', 'Year', 'Median age - Sex: all - Age: all - Variant: estimates']]\n",
    "age_df.columns = ['Country Code', 'Year', 'Age']"
   ]
  },
  {
   "cell_type": "code",
   "execution_count": 35,
   "metadata": {},
   "outputs": [],
   "source": [
    "final_df = df.merge(health_df, on=['Country Code', 'Year'])\n",
    "final_df = final_df.merge(alc_df, on=['Country Code', 'Year'])\n",
    "# final_df = final_df.merge(fat_df, on=['Country Code', 'Year'])\n",
    "final_df = final_df.merge(age_df, on=['Country Code', 'Year'])"
   ]
  },
  {
   "cell_type": "code",
   "execution_count": 36,
   "metadata": {},
   "outputs": [
    {
     "data": {
      "text/plain": [
       "48"
      ]
     },
     "execution_count": 36,
     "metadata": {},
     "output_type": "execute_result"
    }
   ],
   "source": [
    "final_df['Country Name'].nunique()"
   ]
  },
  {
   "cell_type": "code",
   "execution_count": 37,
   "metadata": {},
   "outputs": [],
   "source": [
    "mean_df = final_df.groupby(['Country Name', 'Country Code'])[['IHD', 'HealthInd', 'Alcohol', 'Age']].last().reset_index()"
   ]
  },
  {
   "cell_type": "code",
   "execution_count": 38,
   "metadata": {},
   "outputs": [],
   "source": [
    "%autoreload 2\n",
    "# mean_df = generate_high_income_global_avg_index(mean_df, value_cols=['IHD', 'HealthInd', 'Alcohol', 'Age'], year_col=None)"
   ]
  },
  {
   "cell_type": "code",
   "execution_count": 39,
   "metadata": {},
   "outputs": [],
   "source": [
    "from src.plotting import bubble_plot_factors_and_rates"
   ]
  },
  {
   "cell_type": "code",
   "execution_count": 42,
   "metadata": {},
   "outputs": [
    {
     "data": {
      "image/png": "[encoded data removed]",
      "text/plain": [
       "<Figure size 675x208.586 with 2 Axes>"
      ]
     },
     "metadata": {},
     "output_type": "display_data"
    }
   ],
   "source": [
    "%autoreload 2\n",
    "\n",
    "output_fig_path = OUTPUT_PATH + '/fig_bubble_plot_factors.pdf'\n",
    "bubble_plot_factors_and_rates(mean_df, x_col='Alcohol', y_col='HealthInd', size_col='Age', hue_col='IHD',\n",
    "                            x_label='Alcohol consumption (liters/day)', y_label='Health expenditure (USD per capita)',\n",
    "                            size_label='Median population age', hue_label='Death rate (deaths per 100,000 habitants)',\n",
    "                            country_col='Country Name',\n",
    "                            title='Effect of alcohol consumption, health expenditure and median age on ischemic heart disease death rate, averaged from 1990 to 2019',\n",
    "                            output_path=output_fig_path)"
   ]
  },
  {
   "cell_type": "code",
   "execution_count": null,
   "metadata": {},
   "outputs": [],
   "source": []
  }
 ],
 "metadata": {
  "kernelspec": {
   "display_name": "Python 3.7.11 ('py3')",
   "language": "python",
   "name": "python3"
  },
  "language_info": {
   "codemirror_mode": {
    "name": "ipython",
    "version": 3
   },
   "file_extension": ".py",
   "mimetype": "text/x-python",
   "name": "python",
   "nbconvert_exporter": "python",
   "pygments_lexer": "ipython3",
   "version": "3.10.0"
  },
  "vscode": {
   "interpreter": {
    "hash": "d7b89e158b719c02a21186c9646700ecf5a8cc5b1b6f738df9b6ffa75e5e74e4"
   }
  }
 },
 "nbformat": 4,
 "nbformat_minor": 2
}
