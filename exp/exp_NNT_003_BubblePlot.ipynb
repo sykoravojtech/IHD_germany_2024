{
 "cells": [
  {
   "cell_type": "code",
   "execution_count": 1,
   "metadata": {},
   "outputs": [],
   "source": [
    "import os\n",
    "import sys\n",
    "from sys import platform\n",
    "from pathlib import Path\n",
    "\n",
    "import pandas as pd\n",
    "import numpy as np\n",
    "import seaborn as sns\n",
    "\n",
    "# Add the parent directory to the sys.path (without this we cannot import constants or scripts)\n",
    "sys.path.insert(0, str(Path.cwd().parent))\n",
    "from src.plotting import plot_comparison_GER_HIC_GLO\n",
    "from constants.countries import highincome_countries\n",
    "from src.utils import get_iso3_gbd, generate_high_income_global_avg_index\n",
    "\n",
    "%load_ext autoreload"
   ]
  },
  {
   "cell_type": "code",
   "execution_count": 2,
   "metadata": {},
   "outputs": [],
   "source": [
    "import matplotlib.pyplot as plt \n",
    "\n",
    "from tueplots import bundles"
   ]
  },
  {
   "cell_type": "code",
   "execution_count": 3,
   "metadata": {},
   "outputs": [],
   "source": [
    "# if platform == 'darwin': # macos\n",
    "#     print('mac os')\n",
    "#     os.environ[\"PATH\"] += os.pathsep + '/Library/TeX/texbin'"
   ]
  },
  {
   "cell_type": "code",
   "execution_count": 4,
   "metadata": {},
   "outputs": [],
   "source": [
    "DATA_PATH = '../data/final'\n",
    "OUTPUT_PATH = '../doc/IHD_germany_2024/fig'\n",
    "cvd_data_path = f'{DATA_PATH}/gbd_cardiovascular_allAges_final.csv'\n",
    "YEAR_COLUMN_NAME = 'year'\n",
    "VALUE_COLUMN_NAME = 'val'"
   ]
  },
  {
   "cell_type": "markdown",
   "metadata": {},
   "source": [
    "## Load Data"
   ]
  },
  {
   "cell_type": "code",
   "execution_count": 5,
   "metadata": {},
   "outputs": [],
   "source": [
    "df = pd.read_csv(cvd_data_path)\n",
    "df = df[df.measure_name=='Deaths']\n",
    "df['country_code'] = df['location_name'].map(get_iso3_gbd)"
   ]
  },
  {
   "cell_type": "code",
   "execution_count": 6,
   "metadata": {},
   "outputs": [],
   "source": [
    "df = df[['location_name', 'country_code', 'year', 'val']]\n",
    "df.columns = ['Country Name', 'Country Code', 'Year', 'IHD']"
   ]
  },
  {
   "cell_type": "code",
   "execution_count": 7,
   "metadata": {},
   "outputs": [
    {
     "data": {
      "text/plain": [
       "206"
      ]
     },
     "execution_count": 7,
     "metadata": {},
     "output_type": "execute_result"
    }
   ],
   "source": [
    "df['Country Code'].nunique()"
   ]
  },
  {
   "cell_type": "code",
   "execution_count": 8,
   "metadata": {},
   "outputs": [],
   "source": [
    "year_cols = [str(i) for i in range(1960, 2023)]"
   ]
  },
  {
   "cell_type": "code",
   "execution_count": 9,
   "metadata": {},
   "outputs": [],
   "source": [
    "health_df = pd.read_csv('../data/raw/health_expenditure.csv')\n",
    "health_df = health_df.melt(id_vars=['Country Name', 'Country Code'], value_vars=year_cols, var_name='Year', value_name='HealthInd')\n",
    "health_df['Year'] = health_df['Year'].astype(int)\n",
    "health_df = health_df.drop(['Country Name'], axis=1)\n",
    "health_df = health_df.dropna()"
   ]
  },
  {
   "cell_type": "code",
   "execution_count": 10,
   "metadata": {},
   "outputs": [
    {
     "data": {
      "text/plain": [
       "238"
      ]
     },
     "execution_count": 10,
     "metadata": {},
     "output_type": "execute_result"
    }
   ],
   "source": [
    "health_df.dropna()['Country Code'].nunique()"
   ]
  },
  {
   "cell_type": "code",
   "execution_count": 11,
   "metadata": {},
   "outputs": [],
   "source": [
    "# health_df = pd.read_csv(DATA_PATH+'/oecd_combined_final.csv')\n",
    "# health_df = health_df.rename({'Value': 'HealthInd'}, axis=1).drop(['Country Name', 'Series Name'], axis=1)"
   ]
  },
  {
   "cell_type": "code",
   "execution_count": 12,
   "metadata": {},
   "outputs": [],
   "source": [
    "fat_df = pd.read_csv(DATA_PATH+'/daily_per_capita_fat_supply_final.csv')\n",
    "fat_df = fat_df.rename({'Value': 'Fat'}, axis=1).drop(['Country Name', 'Series Name'], axis=1)"
   ]
  },
  {
   "cell_type": "code",
   "execution_count": 13,
   "metadata": {},
   "outputs": [],
   "source": [
    "alc_df = pd.read_csv('../data/raw/alcohol_germany.csv')\n",
    "alc_df = alc_df[['LOCATION', 'TIME', 'Value']]\n",
    "alc_df.columns = ['Country Code', 'Year', 'Alcohol']\n",
    "# alc_df = alc_df.rename({'Value': 'Alcohol'}, axis=1).drop(['Country Name', 'Series Name'], axis=1)"
   ]
  },
  {
   "cell_type": "code",
   "execution_count": 14,
   "metadata": {},
   "outputs": [
    {
     "data": {
      "text/plain": [
       "49"
      ]
     },
     "execution_count": 14,
     "metadata": {},
     "output_type": "execute_result"
    }
   ],
   "source": [
    "alc_df['Country Code'].nunique()"
   ]
  },
  {
   "cell_type": "code",
   "execution_count": 15,
   "metadata": {},
   "outputs": [],
   "source": [
    "age_df = pd.read_csv('../data/raw/median-age.csv')\n",
    "age_df = age_df[['Code', 'Year', 'Median age - Sex: all - Age: all - Variant: estimates']]\n",
    "age_df.columns = ['Country Code', 'Year', 'Age']"
   ]
  },
  {
   "cell_type": "code",
   "execution_count": 16,
   "metadata": {},
   "outputs": [],
   "source": [
    "final_df = df.merge(health_df, on=['Country Code', 'Year'])\n",
    "final_df = final_df.merge(alc_df, on=['Country Code', 'Year'])\n",
    "# final_df = final_df.merge(fat_df, on=['Country Code', 'Year'])\n",
    "final_df = final_df.merge(age_df, on=['Country Code', 'Year'])"
   ]
  },
  {
   "cell_type": "code",
   "execution_count": 17,
   "metadata": {},
   "outputs": [
    {
     "data": {
      "text/plain": [
       "49"
      ]
     },
     "execution_count": 17,
     "metadata": {},
     "output_type": "execute_result"
    }
   ],
   "source": [
    "final_df['Country Name'].nunique()"
   ]
  },
  {
   "cell_type": "code",
   "execution_count": 18,
   "metadata": {},
   "outputs": [],
   "source": [
    "mean_df = final_df.groupby(['Country Name', 'Country Code'])[['IHD', 'HealthInd', 'Alcohol', 'Age']].last().reset_index()"
   ]
  },
  {
   "cell_type": "code",
   "execution_count": 19,
   "metadata": {},
   "outputs": [],
   "source": [
    "%autoreload 2\n",
    "# mean_df = generate_high_income_global_avg_index(mean_df, value_cols=['IHD', 'HealthInd', 'Alcohol', 'Age'], year_col=None)"
   ]
  },
  {
   "cell_type": "code",
   "execution_count": 20,
   "metadata": {},
   "outputs": [],
   "source": [
    "from src.plotting import bubble_plot_factors_and_rates"
   ]
  },
  {
   "cell_type": "code",
   "execution_count": 21,
   "metadata": {},
   "outputs": [
    {
     "data": {
      "image/png": "[encoded data removed]",
      "text/plain": [
       "<Figure size 675x208.586 with 2 Axes>"
      ]
     },
     "metadata": {},
     "output_type": "display_data"
    }
   ],
   "source": [
    "%autoreload 2\n",
    "\n",
    "output_fig_path = OUTPUT_PATH + '/fig_bubble_plot_factors.pdf'\n",
    "bubble_plot_factors_and_rates(mean_df, x_col='Alcohol', y_col='HealthInd', size_col='Age', hue_col='IHD',\n",
    "                            x_label='Alcohol consumption (liters/day)', y_label='Health expenditure (\\\\% GDP)',\n",
    "                            size_label='Median population age', hue_label='Death rate (deaths per 100,000 habitants)',\n",
    "                            country_col='Country Name',\n",
    "                            title='Effect of alcohol consumption, health expenditure and median age on ischemic heart disease death rate, averaged from 1990 to 2019',\n",
    "                            output_path=output_fig_path)"
   ]
  },
  {
   "cell_type": "code",
   "execution_count": null,
   "metadata": {},
   "outputs": [],
   "source": []
  }
 ],
 "metadata": {
  "kernelspec": {
   "display_name": "Python 3.7.11 ('py3')",
   "language": "python",
   "name": "python3"
  },
  "language_info": {
   "codemirror_mode": {
    "name": "ipython",
    "version": 3
   },
   "file_extension": ".py",
   "mimetype": "text/x-python",
   "name": "python",
   "nbconvert_exporter": "python",
   "pygments_lexer": "ipython3",
   "version": "3.10.0"
  },
  "vscode": {
   "interpreter": {
    "hash": "d7b89e158b719c02a21186c9646700ecf5a8cc5b1b6f738df9b6ffa75e5e74e4"
   }
  }
 },
 "nbformat": 4,
 "nbformat_minor": 2
}
