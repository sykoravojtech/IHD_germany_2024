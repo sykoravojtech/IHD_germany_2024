{
 "cells": [
  {
   "cell_type": "code",
   "execution_count": 1,
   "metadata": {},
   "outputs": [],
   "source": [
    "import os\n",
    "import sys\n",
    "from sys import platform\n",
    "from pathlib import Path\n",
    "\n",
    "import pandas as pd\n",
    "import numpy as np\n",
    "import seaborn as sns\n",
    "\n",
    "# Add the parent directory to the sys.path (without this we cannot import constants or scripts)\n",
    "sys.path.insert(0, str(Path.cwd().parent))\n",
    "from src.plotting import plot_comparison_GER_HIC_GLO\n",
    "from constants.countries import highincome_countries\n",
    "from src.utils import get_iso3_gbd, generate_high_income_global_avg_index\n",
    "\n",
    "%load_ext autoreload"
   ]
  },
  {
   "cell_type": "code",
   "execution_count": 2,
   "metadata": {},
   "outputs": [],
   "source": [
    "import matplotlib.pyplot as plt \n",
    "\n",
    "from tueplots import bundles\n",
    "plt.rcParams.update(bundles.icml2022(column=\"full\", ncols=1, nrows=1))"
   ]
  },
  {
   "cell_type": "code",
   "execution_count": 3,
   "metadata": {},
   "outputs": [],
   "source": [
    "# if platform == 'darwin': # macos\n",
    "#     print('mac os')\n",
    "#     os.environ[\"PATH\"] += os.pathsep + '/Library/TeX/texbin'"
   ]
  },
  {
   "cell_type": "code",
   "execution_count": 4,
   "metadata": {},
   "outputs": [],
   "source": [
    "DATA_PATH = '../data/final'\n",
    "OUTPUT_PATH = '../doc/IHD_germany_2024/fig'\n",
    "cvd_data_path = f'{DATA_PATH}/gbd_cardiovascular_allAges_final.csv'\n",
    "YEAR_COLUMN_NAME = 'year'\n",
    "VALUE_COLUMN_NAME = 'val'"
   ]
  },
  {
   "cell_type": "markdown",
   "metadata": {},
   "source": [
    "## Load Data"
   ]
  },
  {
   "cell_type": "code",
   "execution_count": 5,
   "metadata": {},
   "outputs": [],
   "source": [
    "df = pd.read_csv(cvd_data_path)\n",
    "df = df[df.measure_name=='Incidence']\n",
    "df['country_code'] = df['location_name'].map(get_iso3_gbd)"
   ]
  },
  {
   "cell_type": "code",
   "execution_count": 6,
   "metadata": {},
   "outputs": [],
   "source": [
    "df = df[['location_name', 'country_code', 'year', 'val']]\n",
    "df.columns = ['Country Name', 'Country Code', 'Year', 'IHD']"
   ]
  },
  {
   "cell_type": "code",
   "execution_count": 7,
   "metadata": {},
   "outputs": [
    {
     "data": {
      "text/plain": [
       "204"
      ]
     },
     "execution_count": 7,
     "metadata": {},
     "output_type": "execute_result"
    }
   ],
   "source": [
    "df['Country Code'].nunique()"
   ]
  },
  {
   "cell_type": "code",
   "execution_count": 8,
   "metadata": {},
   "outputs": [],
   "source": [
    "year_cols = [str(i) for i in range(1960, 2023)]"
   ]
  },
  {
   "cell_type": "code",
   "execution_count": 9,
   "metadata": {},
   "outputs": [],
   "source": [
    "health_df = pd.read_csv('../data/raw/health_expenditure.csv')\n",
    "health_df = health_df.melt(id_vars=['Country Name', 'Country Code'], value_vars=year_cols, var_name='Year', value_name='HealthInd')\n",
    "health_df['Year'] = health_df['Year'].astype(int)\n",
    "health_df = health_df.drop(['Country Name'], axis=1)\n",
    "health_df = health_df.dropna()"
   ]
  },
  {
   "cell_type": "code",
   "execution_count": 10,
   "metadata": {},
   "outputs": [
    {
     "data": {
      "text/plain": [
       "238"
      ]
     },
     "execution_count": 10,
     "metadata": {},
     "output_type": "execute_result"
    }
   ],
   "source": [
    "health_df.dropna()['Country Code'].nunique()"
   ]
  },
  {
   "cell_type": "code",
   "execution_count": 11,
   "metadata": {},
   "outputs": [],
   "source": [
    "# health_df = pd.read_csv(DATA_PATH+'/oecd_combined_final.csv')\n",
    "# health_df = health_df.rename({'Value': 'HealthInd'}, axis=1).drop(['Country Name', 'Series Name'], axis=1)"
   ]
  },
  {
   "cell_type": "code",
   "execution_count": 12,
   "metadata": {},
   "outputs": [],
   "source": [
    "fat_df = pd.read_csv(DATA_PATH+'/daily_per_capita_fat_supply_final.csv')\n",
    "fat_df = fat_df.rename({'Value': 'Fat'}, axis=1).drop(['Country Name', 'Series Name'], axis=1)"
   ]
  },
  {
   "cell_type": "code",
   "execution_count": 13,
   "metadata": {},
   "outputs": [],
   "source": [
    "alc_df = pd.read_csv(DATA_PATH+'/wdi_AlcoholConsumption.csv')\n",
    "alc_df = alc_df.rename({'Value': 'Alcohol'}, axis=1).drop(['Country Name', 'Series Name'], axis=1)"
   ]
  },
  {
   "cell_type": "code",
   "execution_count": 14,
   "metadata": {},
   "outputs": [],
   "source": [
    "age_df = pd.read_csv('../data/raw/median-age.csv')\n",
    "age_df = age_df[['Code', 'Year', 'Median age - Sex: all - Age: all - Variant: estimates']]\n",
    "age_df.columns = ['Country Code', 'Year', 'Age']"
   ]
  },
  {
   "cell_type": "code",
   "execution_count": 15,
   "metadata": {},
   "outputs": [],
   "source": [
    "final_df = df.merge(health_df, on=['Country Code', 'Year'])\n",
    "final_df = final_df.merge(alc_df, on=['Country Code', 'Year'])\n",
    "final_df = final_df.merge(fat_df, on=['Country Code', 'Year'])\n",
    "final_df = final_df.merge(age_df, on=['Country Code', 'Year'])"
   ]
  },
  {
   "cell_type": "code",
   "execution_count": 16,
   "metadata": {},
   "outputs": [
    {
     "data": {
      "text/html": [
       "<div>\n",
       "<style scoped>\n",
       "    .dataframe tbody tr th:only-of-type {\n",
       "        vertical-align: middle;\n",
       "    }\n",
       "\n",
       "    .dataframe tbody tr th {\n",
       "        vertical-align: top;\n",
       "    }\n",
       "\n",
       "    .dataframe thead th {\n",
       "        text-align: right;\n",
       "    }\n",
       "</style>\n",
       "<table border=\"1\" class=\"dataframe\">\n",
       "  <thead>\n",
       "    <tr style=\"text-align: right;\">\n",
       "      <th></th>\n",
       "      <th>Country Name</th>\n",
       "      <th>Country Code</th>\n",
       "      <th>Year</th>\n",
       "      <th>IHD</th>\n",
       "      <th>HealthInd</th>\n",
       "      <th>Alcohol</th>\n",
       "      <th>Fat</th>\n",
       "      <th>Age</th>\n",
       "    </tr>\n",
       "  </thead>\n",
       "  <tbody>\n",
       "    <tr>\n",
       "      <th>0</th>\n",
       "      <td>Viet Nam</td>\n",
       "      <td>VNM</td>\n",
       "      <td>2000</td>\n",
       "      <td>0.000862</td>\n",
       "      <td>3.819157</td>\n",
       "      <td>3.28119</td>\n",
       "      <td>39.614067</td>\n",
       "      <td>22.9</td>\n",
       "    </tr>\n",
       "    <tr>\n",
       "      <th>1</th>\n",
       "      <td>Viet Nam</td>\n",
       "      <td>VNM</td>\n",
       "      <td>2000</td>\n",
       "      <td>389.621543</td>\n",
       "      <td>3.819157</td>\n",
       "      <td>3.28119</td>\n",
       "      <td>39.614067</td>\n",
       "      <td>22.9</td>\n",
       "    </tr>\n",
       "    <tr>\n",
       "      <th>2</th>\n",
       "      <td>Viet Nam</td>\n",
       "      <td>VNM</td>\n",
       "      <td>2005</td>\n",
       "      <td>0.000958</td>\n",
       "      <td>4.013874</td>\n",
       "      <td>4.80995</td>\n",
       "      <td>54.825530</td>\n",
       "      <td>25.4</td>\n",
       "    </tr>\n",
       "    <tr>\n",
       "      <th>3</th>\n",
       "      <td>Viet Nam</td>\n",
       "      <td>VNM</td>\n",
       "      <td>2005</td>\n",
       "      <td>429.636820</td>\n",
       "      <td>4.013874</td>\n",
       "      <td>4.80995</td>\n",
       "      <td>54.825530</td>\n",
       "      <td>25.4</td>\n",
       "    </tr>\n",
       "    <tr>\n",
       "      <th>4</th>\n",
       "      <td>Viet Nam</td>\n",
       "      <td>VNM</td>\n",
       "      <td>2010</td>\n",
       "      <td>0.001061</td>\n",
       "      <td>4.699273</td>\n",
       "      <td>7.36591</td>\n",
       "      <td>70.647310</td>\n",
       "      <td>27.7</td>\n",
       "    </tr>\n",
       "    <tr>\n",
       "      <th>...</th>\n",
       "      <td>...</td>\n",
       "      <td>...</td>\n",
       "      <td>...</td>\n",
       "      <td>...</td>\n",
       "      <td>...</td>\n",
       "      <td>...</td>\n",
       "      <td>...</td>\n",
       "      <td>...</td>\n",
       "    </tr>\n",
       "    <tr>\n",
       "      <th>1649</th>\n",
       "      <td>Sierra Leone</td>\n",
       "      <td>SLE</td>\n",
       "      <td>2010</td>\n",
       "      <td>356.318605</td>\n",
       "      <td>10.943376</td>\n",
       "      <td>0.31206</td>\n",
       "      <td>51.623455</td>\n",
       "      <td>17.1</td>\n",
       "    </tr>\n",
       "    <tr>\n",
       "      <th>1650</th>\n",
       "      <td>Sierra Leone</td>\n",
       "      <td>SLE</td>\n",
       "      <td>2015</td>\n",
       "      <td>0.000656</td>\n",
       "      <td>20.413412</td>\n",
       "      <td>0.30534</td>\n",
       "      <td>51.249730</td>\n",
       "      <td>17.7</td>\n",
       "    </tr>\n",
       "    <tr>\n",
       "      <th>1651</th>\n",
       "      <td>Sierra Leone</td>\n",
       "      <td>SLE</td>\n",
       "      <td>2015</td>\n",
       "      <td>355.473682</td>\n",
       "      <td>20.413412</td>\n",
       "      <td>0.30534</td>\n",
       "      <td>51.249730</td>\n",
       "      <td>17.7</td>\n",
       "    </tr>\n",
       "    <tr>\n",
       "      <th>1652</th>\n",
       "      <td>Sierra Leone</td>\n",
       "      <td>SLE</td>\n",
       "      <td>2019</td>\n",
       "      <td>0.000659</td>\n",
       "      <td>8.846684</td>\n",
       "      <td>0.26448</td>\n",
       "      <td>53.480957</td>\n",
       "      <td>18.4</td>\n",
       "    </tr>\n",
       "    <tr>\n",
       "      <th>1653</th>\n",
       "      <td>Sierra Leone</td>\n",
       "      <td>SLE</td>\n",
       "      <td>2019</td>\n",
       "      <td>359.360226</td>\n",
       "      <td>8.846684</td>\n",
       "      <td>0.26448</td>\n",
       "      <td>53.480957</td>\n",
       "      <td>18.4</td>\n",
       "    </tr>\n",
       "  </tbody>\n",
       "</table>\n",
       "<p>1654 rows × 8 columns</p>\n",
       "</div>"
      ],
      "text/plain": [
       "      Country Name Country Code  Year         IHD  HealthInd  Alcohol  \\\n",
       "0         Viet Nam          VNM  2000    0.000862   3.819157  3.28119   \n",
       "1         Viet Nam          VNM  2000  389.621543   3.819157  3.28119   \n",
       "2         Viet Nam          VNM  2005    0.000958   4.013874  4.80995   \n",
       "3         Viet Nam          VNM  2005  429.636820   4.013874  4.80995   \n",
       "4         Viet Nam          VNM  2010    0.001061   4.699273  7.36591   \n",
       "...            ...          ...   ...         ...        ...      ...   \n",
       "1649  Sierra Leone          SLE  2010  356.318605  10.943376  0.31206   \n",
       "1650  Sierra Leone          SLE  2015    0.000656  20.413412  0.30534   \n",
       "1651  Sierra Leone          SLE  2015  355.473682  20.413412  0.30534   \n",
       "1652  Sierra Leone          SLE  2019    0.000659   8.846684  0.26448   \n",
       "1653  Sierra Leone          SLE  2019  359.360226   8.846684  0.26448   \n",
       "\n",
       "            Fat   Age  \n",
       "0     39.614067  22.9  \n",
       "1     39.614067  22.9  \n",
       "2     54.825530  25.4  \n",
       "3     54.825530  25.4  \n",
       "4     70.647310  27.7  \n",
       "...         ...   ...  \n",
       "1649  51.623455  17.1  \n",
       "1650  51.249730  17.7  \n",
       "1651  51.249730  17.7  \n",
       "1652  53.480957  18.4  \n",
       "1653  53.480957  18.4  \n",
       "\n",
       "[1654 rows x 8 columns]"
      ]
     },
     "execution_count": 16,
     "metadata": {},
     "output_type": "execute_result"
    }
   ],
   "source": [
    "final_df"
   ]
  },
  {
   "cell_type": "code",
   "execution_count": 17,
   "metadata": {},
   "outputs": [],
   "source": [
    "mean_df = final_df.groupby(['Country Name', 'Country Code'])[['IHD', 'HealthInd', 'Alcohol', 'Fat', 'Age']].last().reset_index()"
   ]
  },
  {
   "cell_type": "code",
   "execution_count": 24,
   "metadata": {},
   "outputs": [],
   "source": [
    "%autoreload 2\n",
    "mean_df = generate_high_income_global_avg_index(mean_df, value_cols=['IHD', 'HealthInd', 'Alcohol', 'Fat', 'Age'], year_col=None)"
   ]
  },
  {
   "cell_type": "code",
   "execution_count": 25,
   "metadata": {},
   "outputs": [],
   "source": [
    "# mean_df[mean_df['Is High Income']]"
   ]
  },
  {
   "cell_type": "code",
   "execution_count": 26,
   "metadata": {},
   "outputs": [
    {
     "data": {
      "image/png": "[encoded data removed]",
      "text/plain": [
       "<Figure size 486x300.365 with 2 Axes>"
      ]
     },
     "metadata": {
      "needs_background": "light"
     },
     "output_type": "display_data"
    }
   ],
   "source": [
    "from tueplots.constants.color import rgb\n",
    "\n",
    "from matplotlib.colors import LinearSegmentedColormap\n",
    "\n",
    "cmap_colors = [\n",
    "    (0.0, rgb.tue_blue),\n",
    "    (0.5, rgb.tue_orange),\n",
    "    (1.0, rgb.tue_red)\n",
    "]\n",
    "\n",
    "# Create a colormap object\n",
    "custom_cmap = LinearSegmentedColormap.from_list('custom_cmap', cmap_colors)\n",
    "\n",
    "# Use this colormap\n",
    "plt.imshow([[0,1]], cmap=custom_cmap)\n",
    "plt.colorbar()\n",
    "plt.show()"
   ]
  },
  {
   "cell_type": "code",
   "execution_count": 99,
   "metadata": {},
   "outputs": [],
   "source": [
    "def bubble_plot_factors_and_rates(input_df, x_col, y_col, size_col, hue_col, country_col,\n",
    "                                x_label, y_label, size_label, hue_label, min_dist,\n",
    "                                title, output_path, white_list=['Germany', 'High-income', 'Global']\n",
    "                                ):\n",
    "    df = input_df.copy()\n",
    "    df[size_col + '_rescaled'] = (df[size_col] - df[size_col].min()) * 5\n",
    "    scatter = plt.scatter(df[x_col], \n",
    "                        df[y_col], \n",
    "                        s=df[size_col+'_rescaled'],  # This argument specifies the size of the bubbles,\n",
    "                        alpha=0.5, c=df[hue_col], cmap=custom_cmap)\n",
    "\n",
    "    # Add labels for the x and y axes\n",
    "    plt.xlabel(x_label)\n",
    "    plt.ylabel(y_label)\n",
    "\n",
    "    # white_list = ['Germany', 'United States of Ameria', 'United Kingdom', 'United ']\n",
    "    coords = np.zeros(shape=(len(df), 2))\n",
    "\n",
    "    # Optionally add country labels\n",
    "    \n",
    "    for i, row in df.iterrows():\n",
    "        # if row['Country Name'] in highincome_countries:\n",
    "        curr_coord = np.array([row[x_col], row[y_col]])\n",
    "        dist = np.linalg.norm(curr_coord.reshape(-1,2) - coords, axis=1)\n",
    "        # print(coords)\n",
    "        coords[i] = curr_coord\n",
    "        if  row[country_col] in white_list:\n",
    "        # if row[country_col] in white_list:\n",
    "                size = 5 if row[country_col]  not in ['Germany', 'Global', 'High-income'] else 7\n",
    "                plt.text(row[x_col], \n",
    "                        row[y_col], \n",
    "                        s=row[country_col], \n",
    "                        fontsize= size)\n",
    "\n",
    "    plt.colorbar(scatter, label=hue_label)\n",
    "\n",
    "    pct = [20, 50, 80]\n",
    "    legend_sizes = np.percentile(df[size_col + '_rescaled'], pct)\n",
    "    # print(legend_sizes)\n",
    "    legend_labels_int = [str(int(age)) for age in np.percentile(df[size_col], pct)]\n",
    "    legend_labels = [None, None, None]\n",
    "    legend_labels[0] = \"under \" + legend_labels_int[0]\n",
    "    legend_labels[1] = \"from \" + legend_labels_int[0] + \" to \" + legend_labels_int[2]\n",
    "    legend_labels[2] = \"above \" + legend_labels_int[2]\n",
    "\n",
    "    # Create a list of legend entries\n",
    "    legend_entries = [plt.scatter([], [], s=size, color='grey', label=label)\n",
    "                    for label, size in zip(legend_labels, legend_sizes)]\n",
    "    plt.legend(handles=legend_entries, title=size_label, ncol=3, loc='upper left')\n",
    "\n",
    "    plt.title(title)\n",
    "\n",
    "    plt.savefig(output_path)\n",
    "    plt.show()"
   ]
  },
  {
   "cell_type": "code",
   "execution_count": 100,
   "metadata": {},
   "outputs": [],
   "source": [
    "white_list = ['Afghanistan',\n",
    " 'Algeria',\n",
    " 'Angola',\n",
    " 'Argentina',\n",
    " 'Armenia',\n",
    " 'Australia',\n",
    " 'Austria',\n",
    " 'Azerbaijan',\n",
    " 'Barbados',\n",
    " 'Belarus',\n",
    " 'Bulgaria',\n",
    " 'China',\n",
    " 'Colombia',\n",
    " 'Costa Rica',\n",
    " 'Cuba',\n",
    " 'Czechia',\n",
    " 'Ecuador',\n",
    " 'France',\n",
    " 'Gabon',\n",
    " 'Georgia',\n",
    " 'Germany',\n",
    " 'Ghana',\n",
    " 'Greece',\n",
    " 'Jamaica',\n",
    " 'Japan',\n",
    " 'Jordan',\n",
    " 'Kenya',\n",
    " 'Latvia',\n",
    " 'Luxembourg',\n",
    " 'Mongolia',\n",
    " 'Montenegro',\n",
    " 'Myanmar',\n",
    " 'Paraguay',\n",
    " 'Peru',\n",
    " 'Romania',\n",
    " 'Samoa',\n",
    " 'Slovakia',\n",
    " 'Slovenia',\n",
    " 'Sweden',\n",
    " 'Tunisia',\n",
    " 'United States of America',\n",
    " 'Uruguay',\n",
    " 'High-income',\n",
    " 'Global']"
   ]
  },
  {
   "cell_type": "code",
   "execution_count": 115,
   "metadata": {},
   "outputs": [
    {
     "data": {
      "image/png": "[encoded data removed]",
      "text/plain": [
       "<Figure size 486x300.365 with 2 Axes>"
      ]
     },
     "metadata": {
      "needs_background": "light"
     },
     "output_type": "display_data"
    }
   ],
   "source": [
    "output_fig_path = OUTPUT_PATH + '/fig_bubble_plot_factors.pdf'\n",
    "bubble_plot_factors_and_rates(mean_df, x_col='Alcohol', y_col='HealthInd', size_col='Age', hue_col='IHD',\n",
    "                            x_label='Alcohol consumption per capita', y_label='Health expenditure (\\\\% GDP)',\n",
    "                            size_label='Median population age', hue_label='IHD incident rate (per 1000 habitants)',\n",
    "                            country_col='Country Name', min_dist=0.6,  white_list=white_list,\n",
    "                            title='Distribution of the average health expenditure, alcohol consumption, median age and IHC incidence rate by countries',\n",
    "                            output_path=output_fig_path)   "
   ]
  },
  {
   "cell_type": "code",
   "execution_count": 89,
   "metadata": {},
   "outputs": [],
   "source": []
  },
  {
   "cell_type": "code",
   "execution_count": null,
   "metadata": {},
   "outputs": [],
   "source": []
  }
 ],
 "metadata": {
  "kernelspec": {
   "display_name": "Python 3.7.11 ('py3')",
   "language": "python",
   "name": "python3"
  },
  "language_info": {
   "codemirror_mode": {
    "name": "ipython",
    "version": 3
   },
   "file_extension": ".py",
   "mimetype": "text/x-python",
   "name": "python",
   "nbconvert_exporter": "python",
   "pygments_lexer": "ipython3",
   "version": "3.7.11"
  },
  "vscode": {
   "interpreter": {
    "hash": "d7b89e158b719c02a21186c9646700ecf5a8cc5b1b6f738df9b6ffa75e5e74e4"
   }
  }
 },
 "nbformat": 4,
 "nbformat_minor": 2
}
