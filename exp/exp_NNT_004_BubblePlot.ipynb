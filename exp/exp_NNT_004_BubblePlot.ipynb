{
 "cells": [
  {
   "cell_type": "code",
   "execution_count": 1,
   "metadata": {},
   "outputs": [],
   "source": [
    "import os\n",
    "import sys\n",
    "from sys import platform\n",
    "from pathlib import Path\n",
    "\n",
    "import pandas as pd\n",
    "import numpy as np\n",
    "import seaborn as sns\n",
    "\n",
    "# Add the parent directory to the sys.path (without this we cannot import constants or scripts)\n",
    "sys.path.insert(0, str(Path.cwd().parent))\n",
    "from src.plotting import plot_comparison_GER_HIC_GLO\n",
    "from constants.countries import highincome_countries\n",
    "from src.utils import get_iso3_gbd\n",
    "\n",
    "%load_ext autoreload"
   ]
  },
  {
   "cell_type": "code",
   "execution_count": 2,
   "metadata": {},
   "outputs": [],
   "source": [
    "import matplotlib.pyplot as plt \n",
    "\n",
    "from tueplots import bundles\n",
    "plt.rcParams.update(bundles.icml2022(column=\"full\", ncols=1, nrows=1))"
   ]
  },
  {
   "cell_type": "code",
   "execution_count": 3,
   "metadata": {},
   "outputs": [],
   "source": [
    "# if platform == 'darwin': # macos\n",
    "#     print('mac os')\n",
    "#     os.environ[\"PATH\"] += os.pathsep + '/Library/TeX/texbin'"
   ]
  },
  {
   "cell_type": "code",
   "execution_count": 4,
   "metadata": {},
   "outputs": [],
   "source": [
    "DATA_PATH = '../data/final'\n",
    "OUTPUT_PATH = '../doc/IHD_germany_2024/fig'\n",
    "cvd_data_path = f'{DATA_PATH}/gbd_cardiovascularglobal.csv'\n",
    "YEAR_COLUMN_NAME = 'year'\n",
    "VALUE_COLUMN_NAME = 'val'"
   ]
  },
  {
   "cell_type": "markdown",
   "metadata": {},
   "source": [
    "## Load Data"
   ]
  },
  {
   "cell_type": "code",
   "execution_count": 5,
   "metadata": {},
   "outputs": [],
   "source": [
    "df = pd.read_csv(cvd_data_path)\n",
    "df = df[df['age_name'] == 'All ages']\n",
    "df.drop(columns=['measure_id', 'location_id', 'sex_id', 'sex_name', 'metric_id', 'upper', 'lower', 'age_name', 'age_id'], inplace=True)\n",
    "df = df[df.measure_name=='Incidence']\n",
    "df['country_code'] = df['location_name'].map(get_iso3_gbd)"
   ]
  },
  {
   "cell_type": "code",
   "execution_count": 6,
   "metadata": {},
   "outputs": [],
   "source": [
    "df = df[['location_name', 'country_code', 'year', 'val']]\n",
    "df.columns = ['Country Name', 'Country Code', 'Year', 'IHD']"
   ]
  },
  {
   "cell_type": "code",
   "execution_count": 7,
   "metadata": {},
   "outputs": [
    {
     "data": {
      "text/plain": [
       "204"
      ]
     },
     "execution_count": 7,
     "metadata": {},
     "output_type": "execute_result"
    }
   ],
   "source": [
    "df['Country Code'].nunique()"
   ]
  },
  {
   "cell_type": "code",
   "execution_count": 8,
   "metadata": {},
   "outputs": [],
   "source": [
    "year_cols = [str(i) for i in range(1960, 2023)]"
   ]
  },
  {
   "cell_type": "code",
   "execution_count": 9,
   "metadata": {},
   "outputs": [],
   "source": [
    "health_df = pd.read_csv('../data/raw/health_expenditure.csv')\n",
    "health_df = health_df.melt(id_vars=['Country Name', 'Country Code'], value_vars=year_cols, var_name='Year', value_name='HealthInd')\n",
    "health_df['Year'] = health_df['Year'].astype(int)\n",
    "health_df = health_df.drop(['Country Name'], axis=1)\n",
    "health_df = health_df.dropna()"
   ]
  },
  {
   "cell_type": "code",
   "execution_count": 10,
   "metadata": {},
   "outputs": [
    {
     "data": {
      "text/plain": [
       "238"
      ]
     },
     "execution_count": 10,
     "metadata": {},
     "output_type": "execute_result"
    }
   ],
   "source": [
    "health_df.dropna()['Country Code'].nunique()"
   ]
  },
  {
   "cell_type": "code",
   "execution_count": 11,
   "metadata": {},
   "outputs": [],
   "source": [
    "# health_df = pd.read_csv(DATA_PATH+'/oecd_combined_final.csv')\n",
    "# health_df = health_df.rename({'Value': 'HealthInd'}, axis=1).drop(['Country Name', 'Series Name'], axis=1)"
   ]
  },
  {
   "cell_type": "code",
   "execution_count": 12,
   "metadata": {},
   "outputs": [],
   "source": [
    "fat_df = pd.read_csv(DATA_PATH+'/daily_per_capita_fat_supply_final.csv')\n",
    "fat_df = fat_df.rename({'Value': 'Fat'}, axis=1).drop(['Country Name', 'Series Name'], axis=1)"
   ]
  },
  {
   "cell_type": "code",
   "execution_count": 13,
   "metadata": {},
   "outputs": [],
   "source": [
    "alc_df = pd.read_csv(DATA_PATH+'/wdi_AlcoholConsumption.csv')\n",
    "alc_df = alc_df.rename({'Value': 'Alcohol'}, axis=1).drop(['Country Name', 'Series Name'], axis=1)"
   ]
  },
  {
   "cell_type": "code",
   "execution_count": 14,
   "metadata": {},
   "outputs": [],
   "source": [
    "age_df = pd.read_csv('../data/raw/median-age.csv')\n",
    "age_df = age_df[['Code', 'Year', 'Median age - Sex: all - Age: all - Variant: estimates']]\n",
    "age_df.columns = ['Country Code', 'Year', 'Age']"
   ]
  },
  {
   "cell_type": "code",
   "execution_count": 15,
   "metadata": {},
   "outputs": [],
   "source": [
    "final_df = df.merge(health_df, on=['Country Code', 'Year'])\n",
    "final_df = final_df.merge(alc_df, on=['Country Code', 'Year'])\n",
    "final_df = final_df.merge(fat_df, on=['Country Code', 'Year'])\n",
    "final_df = final_df.merge(age_df, on=['Country Code', 'Year'])"
   ]
  },
  {
   "cell_type": "code",
   "execution_count": 16,
   "metadata": {},
   "outputs": [
    {
     "data": {
      "text/html": [
       "<div>\n",
       "<style scoped>\n",
       "    .dataframe tbody tr th:only-of-type {\n",
       "        vertical-align: middle;\n",
       "    }\n",
       "\n",
       "    .dataframe tbody tr th {\n",
       "        vertical-align: top;\n",
       "    }\n",
       "\n",
       "    .dataframe thead th {\n",
       "        text-align: right;\n",
       "    }\n",
       "</style>\n",
       "<table border=\"1\" class=\"dataframe\">\n",
       "  <thead>\n",
       "    <tr style=\"text-align: right;\">\n",
       "      <th></th>\n",
       "      <th>Country Name</th>\n",
       "      <th>Country Code</th>\n",
       "      <th>Year</th>\n",
       "      <th>IHD</th>\n",
       "      <th>HealthInd</th>\n",
       "      <th>Alcohol</th>\n",
       "      <th>Fat</th>\n",
       "      <th>Age</th>\n",
       "    </tr>\n",
       "  </thead>\n",
       "  <tbody>\n",
       "    <tr>\n",
       "      <th>0</th>\n",
       "      <td>Sri Lanka</td>\n",
       "      <td>LKA</td>\n",
       "      <td>2000</td>\n",
       "      <td>442.270854</td>\n",
       "      <td>4.246541</td>\n",
       "      <td>1.87767</td>\n",
       "      <td>44.464270</td>\n",
       "      <td>26.4</td>\n",
       "    </tr>\n",
       "    <tr>\n",
       "      <th>1</th>\n",
       "      <td>Sri Lanka</td>\n",
       "      <td>LKA</td>\n",
       "      <td>2005</td>\n",
       "      <td>485.069859</td>\n",
       "      <td>4.009726</td>\n",
       "      <td>2.05690</td>\n",
       "      <td>43.960644</td>\n",
       "      <td>27.8</td>\n",
       "    </tr>\n",
       "    <tr>\n",
       "      <th>2</th>\n",
       "      <td>Sri Lanka</td>\n",
       "      <td>LKA</td>\n",
       "      <td>2010</td>\n",
       "      <td>511.629689</td>\n",
       "      <td>3.867456</td>\n",
       "      <td>2.60332</td>\n",
       "      <td>42.958050</td>\n",
       "      <td>29.2</td>\n",
       "    </tr>\n",
       "    <tr>\n",
       "      <th>3</th>\n",
       "      <td>Sri Lanka</td>\n",
       "      <td>LKA</td>\n",
       "      <td>2015</td>\n",
       "      <td>559.694339</td>\n",
       "      <td>3.889920</td>\n",
       "      <td>2.86093</td>\n",
       "      <td>48.162490</td>\n",
       "      <td>30.8</td>\n",
       "    </tr>\n",
       "    <tr>\n",
       "      <th>4</th>\n",
       "      <td>Sri Lanka</td>\n",
       "      <td>LKA</td>\n",
       "      <td>2019</td>\n",
       "      <td>600.674503</td>\n",
       "      <td>3.661538</td>\n",
       "      <td>2.82954</td>\n",
       "      <td>52.527122</td>\n",
       "      <td>32.0</td>\n",
       "    </tr>\n",
       "    <tr>\n",
       "      <th>...</th>\n",
       "      <td>...</td>\n",
       "      <td>...</td>\n",
       "      <td>...</td>\n",
       "      <td>...</td>\n",
       "      <td>...</td>\n",
       "      <td>...</td>\n",
       "      <td>...</td>\n",
       "      <td>...</td>\n",
       "    </tr>\n",
       "    <tr>\n",
       "      <th>822</th>\n",
       "      <td>Saint Kitts and Nevis</td>\n",
       "      <td>KNA</td>\n",
       "      <td>2000</td>\n",
       "      <td>630.783889</td>\n",
       "      <td>4.799338</td>\n",
       "      <td>6.45746</td>\n",
       "      <td>82.733665</td>\n",
       "      <td>25.6</td>\n",
       "    </tr>\n",
       "    <tr>\n",
       "      <th>823</th>\n",
       "      <td>Saint Kitts and Nevis</td>\n",
       "      <td>KNA</td>\n",
       "      <td>2005</td>\n",
       "      <td>611.372733</td>\n",
       "      <td>4.728038</td>\n",
       "      <td>7.78943</td>\n",
       "      <td>84.758514</td>\n",
       "      <td>27.5</td>\n",
       "    </tr>\n",
       "    <tr>\n",
       "      <th>824</th>\n",
       "      <td>Saint Kitts and Nevis</td>\n",
       "      <td>KNA</td>\n",
       "      <td>2010</td>\n",
       "      <td>638.710629</td>\n",
       "      <td>5.213694</td>\n",
       "      <td>6.46794</td>\n",
       "      <td>92.144260</td>\n",
       "      <td>29.4</td>\n",
       "    </tr>\n",
       "    <tr>\n",
       "      <th>825</th>\n",
       "      <td>Saint Kitts and Nevis</td>\n",
       "      <td>KNA</td>\n",
       "      <td>2015</td>\n",
       "      <td>696.196486</td>\n",
       "      <td>5.117984</td>\n",
       "      <td>6.11651</td>\n",
       "      <td>107.441960</td>\n",
       "      <td>31.4</td>\n",
       "    </tr>\n",
       "    <tr>\n",
       "      <th>826</th>\n",
       "      <td>Saint Kitts and Nevis</td>\n",
       "      <td>KNA</td>\n",
       "      <td>2019</td>\n",
       "      <td>776.758691</td>\n",
       "      <td>4.933051</td>\n",
       "      <td>6.34118</td>\n",
       "      <td>118.731310</td>\n",
       "      <td>33.1</td>\n",
       "    </tr>\n",
       "  </tbody>\n",
       "</table>\n",
       "<p>827 rows × 8 columns</p>\n",
       "</div>"
      ],
      "text/plain": [
       "              Country Name Country Code  Year         IHD  HealthInd  Alcohol  \\\n",
       "0                Sri Lanka          LKA  2000  442.270854   4.246541  1.87767   \n",
       "1                Sri Lanka          LKA  2005  485.069859   4.009726  2.05690   \n",
       "2                Sri Lanka          LKA  2010  511.629689   3.867456  2.60332   \n",
       "3                Sri Lanka          LKA  2015  559.694339   3.889920  2.86093   \n",
       "4                Sri Lanka          LKA  2019  600.674503   3.661538  2.82954   \n",
       "..                     ...          ...   ...         ...        ...      ...   \n",
       "822  Saint Kitts and Nevis          KNA  2000  630.783889   4.799338  6.45746   \n",
       "823  Saint Kitts and Nevis          KNA  2005  611.372733   4.728038  7.78943   \n",
       "824  Saint Kitts and Nevis          KNA  2010  638.710629   5.213694  6.46794   \n",
       "825  Saint Kitts and Nevis          KNA  2015  696.196486   5.117984  6.11651   \n",
       "826  Saint Kitts and Nevis          KNA  2019  776.758691   4.933051  6.34118   \n",
       "\n",
       "            Fat   Age  \n",
       "0     44.464270  26.4  \n",
       "1     43.960644  27.8  \n",
       "2     42.958050  29.2  \n",
       "3     48.162490  30.8  \n",
       "4     52.527122  32.0  \n",
       "..          ...   ...  \n",
       "822   82.733665  25.6  \n",
       "823   84.758514  27.5  \n",
       "824   92.144260  29.4  \n",
       "825  107.441960  31.4  \n",
       "826  118.731310  33.1  \n",
       "\n",
       "[827 rows x 8 columns]"
      ]
     },
     "execution_count": 16,
     "metadata": {},
     "output_type": "execute_result"
    }
   ],
   "source": [
    "final_df"
   ]
  },
  {
   "cell_type": "code",
   "execution_count": null,
   "metadata": {},
   "outputs": [],
   "source": []
  },
  {
   "cell_type": "code",
   "execution_count": 17,
   "metadata": {},
   "outputs": [],
   "source": [
    "mean_df = final_df.groupby(['Country Name', 'Country Code'])[['IHD', 'HealthInd', 'Alcohol', 'Fat', 'Age']].last().reset_index()"
   ]
  },
  {
   "cell_type": "code",
   "execution_count": 18,
   "metadata": {},
   "outputs": [
    {
     "data": {
      "image/png": "[encoded data removed]",
      "text/plain": [
       "<Figure size 486x300.365 with 2 Axes>"
      ]
     },
     "metadata": {
      "needs_background": "light"
     },
     "output_type": "display_data"
    }
   ],
   "source": [
    "from tueplots.constants.color import rgb\n",
    "\n",
    "from matplotlib.colors import LinearSegmentedColormap\n",
    "\n",
    "cmap_colors = [\n",
    "    (0.0, rgb.tue_blue),\n",
    "    (0.5, rgb.tue_orange),\n",
    "    (1.0, rgb.tue_red)\n",
    "]\n",
    "\n",
    "# Create a colormap object\n",
    "custom_cmap = LinearSegmentedColormap.from_list('custom_cmap', cmap_colors)\n",
    "\n",
    "# Use this colormap\n",
    "plt.imshow([[0,1]], cmap=custom_cmap)\n",
    "plt.colorbar()\n",
    "plt.show()"
   ]
  },
  {
   "cell_type": "code",
   "execution_count": 24,
   "metadata": {},
   "outputs": [],
   "source": [
    "def bubble_plot_factors_and_rates(input_df, x_col, y_col, size_col, hue_col, country_col,\n",
    "                                x_label, y_label, size_label, hue_label, min_dist,\n",
    "                                title, output_path\n",
    "                                ):\n",
    "    df = input_df.copy()\n",
    "    df[size_col + '_rescaled'] = (df[size_col] - df[size_col].min()) * 10\n",
    "    scatter = plt.scatter(df[x_col], \n",
    "                        df[y_col], \n",
    "                        s=df[size_col+'_rescaled'],  # This argument specifies the size of the bubbles,\n",
    "                        alpha=0.5, c=df[hue_col], cmap=custom_cmap)\n",
    "\n",
    "    # Add labels for the x and y axes\n",
    "    plt.xlabel(x_label)\n",
    "    plt.ylabel(y_label)\n",
    "\n",
    "    # white_list = ['Germany', 'United States of Ameria', 'United Kingdom', 'United ']\n",
    "    coords = np.zeros(shape=(len(df), 2))\n",
    "\n",
    "    # Optionally add country labels\n",
    "    for i, row in df.iterrows():\n",
    "        # if row['Country Name'] in highincome_countries:\n",
    "        curr_coord = np.array([row[x_col], row[y_col]])\n",
    "        dist = np.linalg.norm(curr_coord.reshape(-1,2) - coords, axis=1)\n",
    "        # print(coords)\n",
    "        coords[i] = curr_coord\n",
    "        if dist.min() > min_dist or row[country_col] == 'Germany':\n",
    "            plt.text(row[x_col], \n",
    "                    row[y_col], \n",
    "                    s=row[country_col], \n",
    "                    fontsize=5)\n",
    "\n",
    "    plt.colorbar(scatter, label=hue_label)\n",
    "\n",
    "    pct = [20, 50, 80]\n",
    "    legend_sizes = np.percentile(df[size_col + '_rescaled'], pct)\n",
    "    # print(legend_sizes)\n",
    "    legend_labels_int = [str(int(age)) for age in np.percentile(df[size_col], pct)]\n",
    "    legend_labels = [None, None, None]\n",
    "    legend_labels[0] = \"under \" + legend_labels_int[0]\n",
    "    legend_labels[1] = \"from \" + legend_labels_int[0] + \" to \" + legend_labels_int[2]\n",
    "    legend_labels[2] = \"above \" + legend_labels_int[2]\n",
    "\n",
    "    # Create a list of legend entries\n",
    "    legend_entries = [plt.scatter([], [], s=size, color='grey', label=label)\n",
    "                    for label, size in zip(legend_labels, legend_sizes)]\n",
    "    plt.legend(handles=legend_entries, title=size_label, ncol=3, loc='upper left')\n",
    "\n",
    "    plt.title(title)\n",
    "\n",
    "    plt.savefig(output_path)\n",
    "    plt.show()"
   ]
  },
  {
   "cell_type": "code",
   "execution_count": 26,
   "metadata": {},
   "outputs": [
    {
     "data": {
      "image/png": "[encoded data removed]",
      "text/plain": [
       "<Figure size 486x300.365 with 2 Axes>"
      ]
     },
     "metadata": {
      "needs_background": "light"
     },
     "output_type": "display_data"
    }
   ],
   "source": [
    "output_fig_path = OUTPUT_PATH + '/fig_bubble_plot_factors.pdf'\n",
    "bubble_plot_factors_and_rates(mean_df, x_col='Alcohol', y_col='HealthInd', size_col='Age', hue_col='IHD',\n",
    "                            x_label='Alcohol consumption', y_label='Health expenditure (% of GDP)',\n",
    "                            size_label='Median age', hue_label='IHD incident rate',\n",
    "                            country_col='Country Name', min_dist=1.1, \n",
    "                            title='Distribution of the average health expenditure, alcohol consumption, median age and IHC incidence rate by countries',\n",
    "                            output_path=output_fig_path)   "
   ]
  },
  {
   "cell_type": "code",
   "execution_count": null,
   "metadata": {},
   "outputs": [],
   "source": []
  },
  {
   "cell_type": "code",
   "execution_count": null,
   "metadata": {},
   "outputs": [],
   "source": []
  }
 ],
 "metadata": {
  "kernelspec": {
   "display_name": "Python 3.7.11 ('py3')",
   "language": "python",
   "name": "python3"
  },
  "language_info": {
   "codemirror_mode": {
    "name": "ipython",
    "version": 3
   },
   "file_extension": ".py",
   "mimetype": "text/x-python",
   "name": "python",
   "nbconvert_exporter": "python",
   "pygments_lexer": "ipython3",
   "version": "3.7.11"
  },
  "vscode": {
   "interpreter": {
    "hash": "d7b89e158b719c02a21186c9646700ecf5a8cc5b1b6f738df9b6ffa75e5e74e4"
   }
  }
 },
 "nbformat": 4,
 "nbformat_minor": 2
}
