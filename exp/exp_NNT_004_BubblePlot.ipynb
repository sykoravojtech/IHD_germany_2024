{
 "cells": [
  {
   "cell_type": "code",
   "execution_count": 4,
   "metadata": {},
   "outputs": [],
   "source": [
    "import os\n",
    "import sys\n",
    "from sys import platform\n",
    "from pathlib import Path\n",
    "\n",
    "import pandas as pd\n",
    "import numpy as np\n",
    "import seaborn as sns\n",
    "\n",
    "# Add the parent directory to the sys.path (without this we cannot import constants or scripts)\n",
    "sys.path.insert(0, str(Path.cwd().parent))\n",
    "from src.plotting import plot_comparison_GER_HIC_GLO\n",
    "from constants.countries import highincome_countries\n",
    "from src.utils import get_iso3_gbd, generate_high_income_global_avg_index\n",
    "\n",
    "%load_ext autoreload"
   ]
  },
  {
   "cell_type": "code",
   "execution_count": 5,
   "metadata": {},
   "outputs": [],
   "source": [
    "import matplotlib.pyplot as plt \n",
    "\n",
    "from tueplots import bundles"
   ]
  },
  {
   "cell_type": "code",
   "execution_count": 6,
   "metadata": {},
   "outputs": [],
   "source": [
    "# if platform == 'darwin': # macos\n",
    "#     print('mac os')\n",
    "#     os.environ[\"PATH\"] += os.pathsep + '/Library/TeX/texbin'"
   ]
  },
  {
   "cell_type": "code",
   "execution_count": 7,
   "metadata": {},
   "outputs": [],
   "source": [
    "DATA_PATH = '../data/final'\n",
    "OUTPUT_PATH = '../doc/IHD_germany_2024/fig'\n",
    "cvd_data_path = f'{DATA_PATH}/gbd_cardiovascular_allAges_final.csv'\n",
    "YEAR_COLUMN_NAME = 'year'\n",
    "VALUE_COLUMN_NAME = 'val'"
   ]
  },
  {
   "cell_type": "markdown",
   "metadata": {},
   "source": [
    "## Load Data"
   ]
  },
  {
   "cell_type": "code",
   "execution_count": 8,
   "metadata": {},
   "outputs": [],
   "source": [
    "df = pd.read_csv(cvd_data_path)\n",
    "df = df[df.measure_name=='Deaths']\n",
    "df['country_code'] = df['location_name'].map(get_iso3_gbd)"
   ]
  },
  {
   "cell_type": "code",
   "execution_count": 9,
   "metadata": {},
   "outputs": [],
   "source": [
    "df = df[['location_name', 'country_code', 'year', 'val']]\n",
    "df.columns = ['Country Name', 'Country Code', 'Year', 'IHD']"
   ]
  },
  {
   "cell_type": "code",
   "execution_count": 10,
   "metadata": {},
   "outputs": [
    {
     "data": {
      "text/plain": [
       "206"
      ]
     },
     "execution_count": 10,
     "metadata": {},
     "output_type": "execute_result"
    }
   ],
   "source": [
    "df['Country Code'].nunique()"
   ]
  },
  {
   "cell_type": "code",
   "execution_count": 11,
   "metadata": {},
   "outputs": [],
   "source": [
    "year_cols = [str(i) for i in range(1960, 2023)]"
   ]
  },
  {
   "cell_type": "code",
   "execution_count": 12,
   "metadata": {},
   "outputs": [],
   "source": [
    "health_df = pd.read_csv('../data/raw/health_expenditure.csv')\n",
    "health_df = health_df.melt(id_vars=['Country Name', 'Country Code'], value_vars=year_cols, var_name='Year', value_name='HealthInd')\n",
    "health_df['Year'] = health_df['Year'].astype(int)\n",
    "health_df = health_df.drop(['Country Name'], axis=1)\n",
    "health_df = health_df.dropna()"
   ]
  },
  {
   "cell_type": "code",
   "execution_count": 13,
   "metadata": {},
   "outputs": [
    {
     "data": {
      "text/plain": [
       "238"
      ]
     },
     "execution_count": 13,
     "metadata": {},
     "output_type": "execute_result"
    }
   ],
   "source": [
    "health_df.dropna()['Country Code'].nunique()"
   ]
  },
  {
   "cell_type": "code",
   "execution_count": 14,
   "metadata": {},
   "outputs": [],
   "source": [
    "# health_df = pd.read_csv(DATA_PATH+'/oecd_combined_final.csv')\n",
    "# health_df = health_df.rename({'Value': 'HealthInd'}, axis=1).drop(['Country Name', 'Series Name'], axis=1)"
   ]
  },
  {
   "cell_type": "code",
   "execution_count": 15,
   "metadata": {},
   "outputs": [],
   "source": [
    "fat_df = pd.read_csv(DATA_PATH+'/daily_per_capita_fat_supply_final.csv')\n",
    "fat_df = fat_df.rename({'Value': 'Fat'}, axis=1).drop(['Country Name', 'Series Name'], axis=1)"
   ]
  },
  {
   "cell_type": "code",
   "execution_count": 16,
   "metadata": {},
   "outputs": [],
   "source": [
    "alc_df = pd.read_csv(DATA_PATH+'/wdi_AlcoholConsumption.csv')\n",
    "alc_df = alc_df.rename({'Value': 'Alcohol'}, axis=1).drop(['Country Name', 'Series Name'], axis=1)"
   ]
  },
  {
   "cell_type": "code",
   "execution_count": 17,
   "metadata": {},
   "outputs": [],
   "source": [
    "age_df = pd.read_csv('../data/raw/median-age.csv')\n",
    "age_df = age_df[['Code', 'Year', 'Median age - Sex: all - Age: all - Variant: estimates']]\n",
    "age_df.columns = ['Country Code', 'Year', 'Age']"
   ]
  },
  {
   "cell_type": "code",
   "execution_count": 18,
   "metadata": {},
   "outputs": [],
   "source": [
    "final_df = df.merge(health_df, on=['Country Code', 'Year'])\n",
    "final_df = final_df.merge(alc_df, on=['Country Code', 'Year'])\n",
    "# final_df = final_df.merge(fat_df, on=['Country Code', 'Year'])\n",
    "final_df = final_df.merge(age_df, on=['Country Code', 'Year'])"
   ]
  },
  {
   "cell_type": "code",
   "execution_count": 19,
   "metadata": {},
   "outputs": [
    {
     "data": {
      "text/html": [
       "<div>\n",
       "<style scoped>\n",
       "    .dataframe tbody tr th:only-of-type {\n",
       "        vertical-align: middle;\n",
       "    }\n",
       "\n",
       "    .dataframe tbody tr th {\n",
       "        vertical-align: top;\n",
       "    }\n",
       "\n",
       "    .dataframe thead th {\n",
       "        text-align: right;\n",
       "    }\n",
       "</style>\n",
       "<table border=\"1\" class=\"dataframe\">\n",
       "  <thead>\n",
       "    <tr style=\"text-align: right;\">\n",
       "      <th></th>\n",
       "      <th>Country Name</th>\n",
       "      <th>Country Code</th>\n",
       "      <th>Year</th>\n",
       "      <th>IHD</th>\n",
       "      <th>HealthInd</th>\n",
       "      <th>Alcohol</th>\n",
       "      <th>Age</th>\n",
       "    </tr>\n",
       "  </thead>\n",
       "  <tbody>\n",
       "    <tr>\n",
       "      <th>0</th>\n",
       "      <td>Samoa</td>\n",
       "      <td>WSM</td>\n",
       "      <td>2000</td>\n",
       "      <td>0.368311</td>\n",
       "      <td>4.396606</td>\n",
       "      <td>4.04168</td>\n",
       "      <td>18.5</td>\n",
       "    </tr>\n",
       "    <tr>\n",
       "      <th>1</th>\n",
       "      <td>Samoa</td>\n",
       "      <td>WSM</td>\n",
       "      <td>2000</td>\n",
       "      <td>237.006361</td>\n",
       "      <td>4.396606</td>\n",
       "      <td>4.04168</td>\n",
       "      <td>18.5</td>\n",
       "    </tr>\n",
       "    <tr>\n",
       "      <th>2</th>\n",
       "      <td>Austria</td>\n",
       "      <td>AUT</td>\n",
       "      <td>2000</td>\n",
       "      <td>0.473877</td>\n",
       "      <td>9.203713</td>\n",
       "      <td>12.89070</td>\n",
       "      <td>37.1</td>\n",
       "    </tr>\n",
       "    <tr>\n",
       "      <th>3</th>\n",
       "      <td>Austria</td>\n",
       "      <td>AUT</td>\n",
       "      <td>2000</td>\n",
       "      <td>452.709757</td>\n",
       "      <td>9.203713</td>\n",
       "      <td>12.89070</td>\n",
       "      <td>37.1</td>\n",
       "    </tr>\n",
       "    <tr>\n",
       "      <th>4</th>\n",
       "      <td>Vanuatu</td>\n",
       "      <td>VUT</td>\n",
       "      <td>2000</td>\n",
       "      <td>0.317660</td>\n",
       "      <td>3.306833</td>\n",
       "      <td>1.26851</td>\n",
       "      <td>17.0</td>\n",
       "    </tr>\n",
       "    <tr>\n",
       "      <th>...</th>\n",
       "      <td>...</td>\n",
       "      <td>...</td>\n",
       "      <td>...</td>\n",
       "      <td>...</td>\n",
       "      <td>...</td>\n",
       "      <td>...</td>\n",
       "      <td>...</td>\n",
       "    </tr>\n",
       "    <tr>\n",
       "      <th>1811</th>\n",
       "      <td>Cyprus</td>\n",
       "      <td>CYP</td>\n",
       "      <td>2019</td>\n",
       "      <td>236.959544</td>\n",
       "      <td>6.949430</td>\n",
       "      <td>8.05289</td>\n",
       "      <td>36.6</td>\n",
       "    </tr>\n",
       "    <tr>\n",
       "      <th>1812</th>\n",
       "      <td>Belarus</td>\n",
       "      <td>BLR</td>\n",
       "      <td>2019</td>\n",
       "      <td>0.619024</td>\n",
       "      <td>5.861338</td>\n",
       "      <td>10.90107</td>\n",
       "      <td>39.7</td>\n",
       "    </tr>\n",
       "    <tr>\n",
       "      <th>1813</th>\n",
       "      <td>Belarus</td>\n",
       "      <td>BLR</td>\n",
       "      <td>2019</td>\n",
       "      <td>792.975384</td>\n",
       "      <td>5.861338</td>\n",
       "      <td>10.90107</td>\n",
       "      <td>39.7</td>\n",
       "    </tr>\n",
       "    <tr>\n",
       "      <th>1814</th>\n",
       "      <td>Sweden</td>\n",
       "      <td>SWE</td>\n",
       "      <td>2019</td>\n",
       "      <td>0.384713</td>\n",
       "      <td>10.832243</td>\n",
       "      <td>9.29617</td>\n",
       "      <td>39.6</td>\n",
       "    </tr>\n",
       "    <tr>\n",
       "      <th>1815</th>\n",
       "      <td>Sweden</td>\n",
       "      <td>SWE</td>\n",
       "      <td>2019</td>\n",
       "      <td>353.010736</td>\n",
       "      <td>10.832243</td>\n",
       "      <td>9.29617</td>\n",
       "      <td>39.6</td>\n",
       "    </tr>\n",
       "  </tbody>\n",
       "</table>\n",
       "<p>1816 rows × 7 columns</p>\n",
       "</div>"
      ],
      "text/plain": [
       "     Country Name Country Code  Year         IHD  HealthInd   Alcohol   Age\n",
       "0           Samoa          WSM  2000    0.368311   4.396606   4.04168  18.5\n",
       "1           Samoa          WSM  2000  237.006361   4.396606   4.04168  18.5\n",
       "2         Austria          AUT  2000    0.473877   9.203713  12.89070  37.1\n",
       "3         Austria          AUT  2000  452.709757   9.203713  12.89070  37.1\n",
       "4         Vanuatu          VUT  2000    0.317660   3.306833   1.26851  17.0\n",
       "...           ...          ...   ...         ...        ...       ...   ...\n",
       "1811       Cyprus          CYP  2019  236.959544   6.949430   8.05289  36.6\n",
       "1812      Belarus          BLR  2019    0.619024   5.861338  10.90107  39.7\n",
       "1813      Belarus          BLR  2019  792.975384   5.861338  10.90107  39.7\n",
       "1814       Sweden          SWE  2019    0.384713  10.832243   9.29617  39.6\n",
       "1815       Sweden          SWE  2019  353.010736  10.832243   9.29617  39.6\n",
       "\n",
       "[1816 rows x 7 columns]"
      ]
     },
     "execution_count": 19,
     "metadata": {},
     "output_type": "execute_result"
    }
   ],
   "source": [
    "final_df"
   ]
  },
  {
   "cell_type": "code",
   "execution_count": 20,
   "metadata": {},
   "outputs": [],
   "source": [
    "mean_df = final_df.groupby(['Country Name', 'Country Code'])[['IHD', 'HealthInd', 'Alcohol', 'Age']].last().reset_index()"
   ]
  },
  {
   "cell_type": "code",
   "execution_count": 21,
   "metadata": {},
   "outputs": [],
   "source": [
    "%autoreload 2\n",
    "mean_df = generate_high_income_global_avg_index(mean_df, value_cols=['IHD', 'HealthInd', 'Alcohol', 'Age'], year_col=None)"
   ]
  },
  {
   "cell_type": "code",
   "execution_count": 22,
   "metadata": {},
   "outputs": [],
   "source": [
    "# mean_df[mean_df['Is High Income']]"
   ]
  },
  {
   "cell_type": "code",
   "execution_count": 23,
   "metadata": {},
   "outputs": [
    {
     "data": {
      "image/png": "[encoded data removed]",
      "text/plain": [
       "<Figure size 640x480 with 2 Axes>"
      ]
     },
     "metadata": {},
     "output_type": "display_data"
    }
   ],
   "source": [
    "from tueplots.constants.color import rgb\n",
    "\n",
    "from matplotlib.colors import LinearSegmentedColormap\n",
    "\n",
    "cmap_colors = [\n",
    "    (0.0, rgb.tue_blue),\n",
    "    (0.5, rgb.tue_orange),\n",
    "    (1.0, rgb.tue_red)\n",
    "]\n",
    "\n",
    "# Create a colormap object\n",
    "custom_cmap = LinearSegmentedColormap.from_list('custom_cmap', cmap_colors)\n",
    "\n",
    "# Use this colormap\n",
    "plt.imshow([[0,1]], cmap=custom_cmap)\n",
    "plt.colorbar()\n",
    "plt.show()"
   ]
  },
  {
   "cell_type": "code",
   "execution_count": 27,
   "metadata": {},
   "outputs": [],
   "source": [
    "def bubble_plot_factors_and_rates(input_df, x_col, y_col, size_col, hue_col, country_col,\n",
    "                                x_label, y_label, size_label, hue_label, min_dist,\n",
    "                                title, output_path, white_list=['DEU', 'HIC', 'GLB']\n",
    "                                ):\n",
    "    df = input_df.copy()\n",
    "    \n",
    "    plt.rcParams.update(bundles.icml2022(column=\"full\", ncols=2, nrows=1))\n",
    "    \n",
    "    df[size_col + '_rescaled'] = (df[size_col] - df[size_col].min()) * 5\n",
    "    scatter = plt.scatter(df[x_col], \n",
    "                        df[y_col], \n",
    "                        s=df[size_col+'_rescaled'],  # This argument specifies the size of the bubbles,\n",
    "                        alpha=0.5, c=df[hue_col], cmap=custom_cmap)\n",
    "\n",
    "    # Add labels for the x and y axes\n",
    "    plt.xlabel(x_label)\n",
    "    plt.ylabel(y_label)\n",
    "\n",
    "    # white_list = ['Germany', 'United States of Ameria', 'United Kingdom', 'United ']\n",
    "    coords = np.zeros(shape=(len(df), 2))\n",
    "\n",
    "    # Optionally add country labels\n",
    "    \n",
    "    for i, row in df.iterrows():\n",
    "        # if row['Country Name'] in highincome_countries:\n",
    "        curr_coord = np.array([row[x_col], row[y_col]])\n",
    "        dist = np.linalg.norm(curr_coord.reshape(-1,2) - coords, axis=1)\n",
    "        # print(coords)\n",
    "        coords[i] = curr_coord\n",
    "        if  row[country_col] in white_list:\n",
    "        # if row[country_col] in white_list:\n",
    "                size = 5 \n",
    "                plt.text(row[x_col]-0.25, \n",
    "                        row[y_col]-0.4, \n",
    "                        s=row[country_col],\n",
    "                        size=size)\n",
    "\n",
    "    plt.colorbar(scatter, label=hue_label)\n",
    "\n",
    "    pct = [20, 50, 80]\n",
    "    legend_sizes = np.percentile(df[size_col + '_rescaled'], pct)\n",
    "    # print(legend_sizes)\n",
    "    legend_labels_int = [str(int(age)) for age in np.percentile(df[size_col], pct)]\n",
    "    legend_labels = [None, None, None]\n",
    "    legend_labels[0] = \"under \" + legend_labels_int[0]\n",
    "    legend_labels[1] = \"from \" + legend_labels_int[0] + \" to \" + legend_labels_int[2]\n",
    "    legend_labels[2] = \"above \" + legend_labels_int[2]\n",
    "\n",
    "    # Create a list of legend entries\n",
    "    legend_entries = [plt.scatter([], [], s=size, color='grey', label=label)\n",
    "                    for label, size in zip(legend_labels, legend_sizes)]\n",
    "    plt.legend(handles=legend_entries, title=size_label, ncol=3, loc='upper right')\n",
    "\n",
    "    plt.title(title)\n",
    "\n",
    "    plt.savefig(output_path)\n",
    "    plt.show()"
   ]
  },
  {
   "cell_type": "code",
   "execution_count": 25,
   "metadata": {},
   "outputs": [],
   "source": [
    "white_list = ['Afghanistan',\n",
    " 'Algeria',\n",
    " 'Angola',\n",
    " 'Argentina',\n",
    " 'Armenia',\n",
    " 'Australia',\n",
    " 'Austria',\n",
    " 'Azerbaijan',\n",
    " 'Barbados',\n",
    " 'Belarus',\n",
    " 'Bulgaria',\n",
    " 'China',\n",
    " 'Colombia',\n",
    " 'Costa Rica',\n",
    " 'Cuba',\n",
    " 'Czechia',\n",
    " 'Ecuador',\n",
    " 'France',\n",
    " 'Gabon',\n",
    " 'Georgia',\n",
    " 'Germany',\n",
    " 'Ghana',\n",
    " 'Greece',\n",
    " 'Jamaica',\n",
    " 'Japan',\n",
    " 'Jordan',\n",
    " 'Kenya',\n",
    " 'Latvia',\n",
    " 'Luxembourg',\n",
    " 'Mongolia',\n",
    " 'Montenegro',\n",
    " 'Myanmar',\n",
    " 'Paraguay',\n",
    " 'Peru',\n",
    " 'Romania',\n",
    " 'Samoa',\n",
    " 'Slovakia',\n",
    " 'Slovenia',\n",
    " 'Sweden',\n",
    " 'Tunisia',\n",
    " 'United States of America',\n",
    " 'Uruguay',\n",
    " 'High-income',\n",
    " 'Global']"
   ]
  },
  {
   "cell_type": "code",
   "execution_count": 28,
   "metadata": {},
   "outputs": [
    {
     "data": {
      "image/png": "[encoded data removed]",
      "text/plain": [
       "<Figure size 675x208.586 with 2 Axes>"
      ]
     },
     "metadata": {},
     "output_type": "display_data"
    }
   ],
   "source": [
    "output_fig_path = OUTPUT_PATH + '/fig_bubble_plot_factors.pdf'\n",
    "bubble_plot_factors_and_rates(mean_df, x_col='Alcohol', y_col='HealthInd', size_col='Age', hue_col='IHD',\n",
    "                            x_label='Alcohol consumption', y_label='Health expenditure',\n",
    "                            size_label='Median population age', hue_label='Death rate',\n",
    "                            country_col='Country Code', min_dist=0.6,\n",
    "                            title='Effect of alcohol consumption, health expenditure and median age on ischemic heart disease death rate',\n",
    "                            output_path=output_fig_path)\n",
    "                            # , white_list=white_list)   "
   ]
  },
  {
   "cell_type": "code",
   "execution_count": 89,
   "metadata": {},
   "outputs": [],
   "source": []
  },
  {
   "cell_type": "code",
   "execution_count": null,
   "metadata": {},
   "outputs": [],
   "source": []
  }
 ],
 "metadata": {
  "kernelspec": {
   "display_name": "Python 3.7.11 ('py3')",
   "language": "python",
   "name": "python3"
  },
  "language_info": {
   "codemirror_mode": {
    "name": "ipython",
    "version": 3
   },
   "file_extension": ".py",
   "mimetype": "text/x-python",
   "name": "python",
   "nbconvert_exporter": "python",
   "pygments_lexer": "ipython3",
   "version": "3.10.0"
  },
  "vscode": {
   "interpreter": {
    "hash": "d7b89e158b719c02a21186c9646700ecf5a8cc5b1b6f738df9b6ffa75e5e74e4"
   }
  }
 },
 "nbformat": 4,
 "nbformat_minor": 2
}
