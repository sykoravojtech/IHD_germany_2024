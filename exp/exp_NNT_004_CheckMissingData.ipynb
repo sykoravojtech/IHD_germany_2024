{
 "cells": [
  {
   "cell_type": "code",
   "execution_count": 2,
   "metadata": {},
   "outputs": [],
   "source": [
    "import os\n",
    "import sys\n",
    "from sys import platform\n",
    "from pathlib import Path\n",
    "\n",
    "import pandas as pd\n",
    "import numpy as np\n",
    "import seaborn as sns\n",
    "\n",
    "# Add the parent directory to the sys.path (without this we cannot import constants or scripts)\n",
    "sys.path.insert(0, str(Path.cwd().parent))\n",
    "from src.plotting import plot_comparison_GER_HIC_GLO\n",
    "from constants.countries import highincome_countries\n",
    "from src.utils import get_iso3_gbd\n",
    "\n",
    "%load_ext autoreload"
   ]
  },
  {
   "cell_type": "code",
   "execution_count": 3,
   "metadata": {},
   "outputs": [],
   "source": [
    "import matplotlib.pyplot as plt \n",
    "\n",
    "from tueplots import bundles\n",
    "plt.rcParams.update(bundles.icml2022(column=\"full\", ncols=1, nrows=1))"
   ]
  },
  {
   "cell_type": "code",
   "execution_count": 4,
   "metadata": {},
   "outputs": [],
   "source": [
    "# if platform == 'darwin': # macos\n",
    "#     print('mac os')\n",
    "#     os.environ[\"PATH\"] += os.pathsep + '/Library/TeX/texbin'"
   ]
  },
  {
   "cell_type": "code",
   "execution_count": 5,
   "metadata": {},
   "outputs": [],
   "source": [
    "DATA_PATH = '../data/final'\n",
    "OUTPUT_PATH = '../doc/IHD_germany_2024/fig'\n",
    "cvd_data_path = f'{DATA_PATH}/gbd_cardiovascular_allAges_final.csv'\n",
    "YEAR_COLUMN_NAME = 'year'\n",
    "VALUE_COLUMN_NAME = 'val'\n",
    "\n",
    "official_range = range(1990, 2020)"
   ]
  },
  {
   "cell_type": "markdown",
   "metadata": {},
   "source": [
    "## Load Data"
   ]
  },
  {
   "cell_type": "code",
   "execution_count": 6,
   "metadata": {},
   "outputs": [
    {
     "data": {
      "text/html": [
       "<div>\n",
       "<style scoped>\n",
       "    .dataframe tbody tr th:only-of-type {\n",
       "        vertical-align: middle;\n",
       "    }\n",
       "\n",
       "    .dataframe tbody tr th {\n",
       "        vertical-align: top;\n",
       "    }\n",
       "\n",
       "    .dataframe thead th {\n",
       "        text-align: right;\n",
       "    }\n",
       "</style>\n",
       "<table border=\"1\" class=\"dataframe\">\n",
       "  <thead>\n",
       "    <tr style=\"text-align: right;\">\n",
       "      <th></th>\n",
       "      <th>measure_name</th>\n",
       "      <th>location_name</th>\n",
       "      <th>metric_name</th>\n",
       "      <th>year</th>\n",
       "      <th>val</th>\n",
       "      <th>Country Code</th>\n",
       "      <th>country_code</th>\n",
       "    </tr>\n",
       "  </thead>\n",
       "  <tbody>\n",
       "    <tr>\n",
       "      <th>12361</th>\n",
       "      <td>Incidence</td>\n",
       "      <td>Democratic People's Republic of Korea</td>\n",
       "      <td>Rate</td>\n",
       "      <td>1990</td>\n",
       "      <td>505.746115</td>\n",
       "      <td>PRK</td>\n",
       "      <td>PRK</td>\n",
       "    </tr>\n",
       "    <tr>\n",
       "      <th>12363</th>\n",
       "      <td>Incidence</td>\n",
       "      <td>Democratic People's Republic of Korea</td>\n",
       "      <td>Rate</td>\n",
       "      <td>1991</td>\n",
       "      <td>516.447635</td>\n",
       "      <td>PRK</td>\n",
       "      <td>PRK</td>\n",
       "    </tr>\n",
       "    <tr>\n",
       "      <th>12365</th>\n",
       "      <td>Incidence</td>\n",
       "      <td>Democratic People's Republic of Korea</td>\n",
       "      <td>Rate</td>\n",
       "      <td>1992</td>\n",
       "      <td>526.806601</td>\n",
       "      <td>PRK</td>\n",
       "      <td>PRK</td>\n",
       "    </tr>\n",
       "    <tr>\n",
       "      <th>12367</th>\n",
       "      <td>Incidence</td>\n",
       "      <td>Democratic People's Republic of Korea</td>\n",
       "      <td>Rate</td>\n",
       "      <td>1993</td>\n",
       "      <td>536.496942</td>\n",
       "      <td>PRK</td>\n",
       "      <td>PRK</td>\n",
       "    </tr>\n",
       "    <tr>\n",
       "      <th>12369</th>\n",
       "      <td>Incidence</td>\n",
       "      <td>Democratic People's Republic of Korea</td>\n",
       "      <td>Rate</td>\n",
       "      <td>1994</td>\n",
       "      <td>546.016220</td>\n",
       "      <td>PRK</td>\n",
       "      <td>PRK</td>\n",
       "    </tr>\n",
       "    <tr>\n",
       "      <th>...</th>\n",
       "      <td>...</td>\n",
       "      <td>...</td>\n",
       "      <td>...</td>\n",
       "      <td>...</td>\n",
       "      <td>...</td>\n",
       "      <td>...</td>\n",
       "      <td>...</td>\n",
       "    </tr>\n",
       "    <tr>\n",
       "      <th>24711</th>\n",
       "      <td>Incidence</td>\n",
       "      <td>Sierra Leone</td>\n",
       "      <td>Rate</td>\n",
       "      <td>2015</td>\n",
       "      <td>355.473682</td>\n",
       "      <td>SLE</td>\n",
       "      <td>SLE</td>\n",
       "    </tr>\n",
       "    <tr>\n",
       "      <th>24713</th>\n",
       "      <td>Incidence</td>\n",
       "      <td>Sierra Leone</td>\n",
       "      <td>Rate</td>\n",
       "      <td>2016</td>\n",
       "      <td>355.201957</td>\n",
       "      <td>SLE</td>\n",
       "      <td>SLE</td>\n",
       "    </tr>\n",
       "    <tr>\n",
       "      <th>24715</th>\n",
       "      <td>Incidence</td>\n",
       "      <td>Sierra Leone</td>\n",
       "      <td>Rate</td>\n",
       "      <td>2017</td>\n",
       "      <td>355.453785</td>\n",
       "      <td>SLE</td>\n",
       "      <td>SLE</td>\n",
       "    </tr>\n",
       "    <tr>\n",
       "      <th>24717</th>\n",
       "      <td>Incidence</td>\n",
       "      <td>Sierra Leone</td>\n",
       "      <td>Rate</td>\n",
       "      <td>2018</td>\n",
       "      <td>357.173519</td>\n",
       "      <td>SLE</td>\n",
       "      <td>SLE</td>\n",
       "    </tr>\n",
       "    <tr>\n",
       "      <th>24719</th>\n",
       "      <td>Incidence</td>\n",
       "      <td>Sierra Leone</td>\n",
       "      <td>Rate</td>\n",
       "      <td>2019</td>\n",
       "      <td>359.360226</td>\n",
       "      <td>SLE</td>\n",
       "      <td>SLE</td>\n",
       "    </tr>\n",
       "  </tbody>\n",
       "</table>\n",
       "<p>6180 rows × 7 columns</p>\n",
       "</div>"
      ],
      "text/plain": [
       "      measure_name                          location_name metric_name  year  \\\n",
       "12361    Incidence  Democratic People's Republic of Korea        Rate  1990   \n",
       "12363    Incidence  Democratic People's Republic of Korea        Rate  1991   \n",
       "12365    Incidence  Democratic People's Republic of Korea        Rate  1992   \n",
       "12367    Incidence  Democratic People's Republic of Korea        Rate  1993   \n",
       "12369    Incidence  Democratic People's Republic of Korea        Rate  1994   \n",
       "...            ...                                    ...         ...   ...   \n",
       "24711    Incidence                           Sierra Leone        Rate  2015   \n",
       "24713    Incidence                           Sierra Leone        Rate  2016   \n",
       "24715    Incidence                           Sierra Leone        Rate  2017   \n",
       "24717    Incidence                           Sierra Leone        Rate  2018   \n",
       "24719    Incidence                           Sierra Leone        Rate  2019   \n",
       "\n",
       "              val Country Code country_code  \n",
       "12361  505.746115          PRK          PRK  \n",
       "12363  516.447635          PRK          PRK  \n",
       "12365  526.806601          PRK          PRK  \n",
       "12367  536.496942          PRK          PRK  \n",
       "12369  546.016220          PRK          PRK  \n",
       "...           ...          ...          ...  \n",
       "24711  355.473682          SLE          SLE  \n",
       "24713  355.201957          SLE          SLE  \n",
       "24715  355.453785          SLE          SLE  \n",
       "24717  357.173519          SLE          SLE  \n",
       "24719  359.360226          SLE          SLE  \n",
       "\n",
       "[6180 rows x 7 columns]"
      ]
     },
     "execution_count": 6,
     "metadata": {},
     "output_type": "execute_result"
    }
   ],
   "source": [
    "df = pd.read_csv(cvd_data_path)\n",
    "df = df[(df.measure_name=='Incidence') & (df['metric_name'] == 'Rate')]\n",
    "df['country_code'] = df['location_name'].map(get_iso3_gbd)\n",
    "df"
   ]
  },
  {
   "cell_type": "code",
   "execution_count": 7,
   "metadata": {},
   "outputs": [],
   "source": [
    "df = df[['location_name', 'country_code', 'year', 'val']]\n",
    "df.columns = ['Country Name', 'Country Code', 'Year', 'IHD']"
   ]
  },
  {
   "cell_type": "code",
   "execution_count": 8,
   "metadata": {},
   "outputs": [
    {
     "name": "stdout",
     "output_type": "stream",
     "text": [
      "======= GDB data ========\n"
     ]
    }
   ],
   "source": [
    "print('======= GDB data ========')"
   ]
  },
  {
   "cell_type": "code",
   "execution_count": 9,
   "metadata": {},
   "outputs": [
    {
     "name": "stdout",
     "output_type": "stream",
     "text": [
      "Number of countries: 206\n"
     ]
    }
   ],
   "source": [
    "print('Number of countries:', df['Country Code'].nunique())"
   ]
  },
  {
   "cell_type": "code",
   "execution_count": 10,
   "metadata": {},
   "outputs": [
    {
     "name": "stdout",
     "output_type": "stream",
     "text": [
      "GBD data year range: 1990 2019\n"
     ]
    }
   ],
   "source": [
    "print('GBD data year range:', df.Year.min(), df.Year.max())"
   ]
  },
  {
   "cell_type": "code",
   "execution_count": 11,
   "metadata": {},
   "outputs": [
    {
     "name": "stdout",
     "output_type": "stream",
     "text": [
      "Percentage missing data:  0.0\n"
     ]
    }
   ],
   "source": [
    "print(\"Percentage missing data: \", df['IHD'].isna().mean())"
   ]
  },
  {
   "cell_type": "markdown",
   "metadata": {},
   "source": [
    "## Healthcare expenditure"
   ]
  },
  {
   "cell_type": "code",
   "execution_count": 12,
   "metadata": {},
   "outputs": [],
   "source": [
    "year_cols = [str(i) for i in range(1960, 2023)]"
   ]
  },
  {
   "cell_type": "code",
   "execution_count": 13,
   "metadata": {},
   "outputs": [],
   "source": [
    "health_df = pd.read_csv('../data/raw/oecd_healthSpending.csv')\n",
    "health_df.rename(columns={'LOCATION': 'Country Code', 'TIME': 'Year', 'Value': 'HealthInd'}, inplace=True)\n",
    "health_df.drop(columns=['INDICATOR', 'SUBJECT', 'MEASURE', 'FREQUENCY', 'Flag Codes'], inplace=True)"
   ]
  },
  {
   "cell_type": "code",
   "execution_count": 14,
   "metadata": {},
   "outputs": [
    {
     "name": "stdout",
     "output_type": "stream",
     "text": [
      "======= Healthcare expenditure data ========\n"
     ]
    }
   ],
   "source": [
    "print('======= Healthcare expenditure data ========')"
   ]
  },
  {
   "cell_type": "code",
   "execution_count": 15,
   "metadata": {},
   "outputs": [
    {
     "name": "stdout",
     "output_type": "stream",
     "text": [
      "Healthcare expenditure data year range: 1970 2022\n"
     ]
    }
   ],
   "source": [
    "print('Healthcare expenditure data year range:', health_df.Year.min(), health_df.Year.max())"
   ]
  },
  {
   "cell_type": "code",
   "execution_count": 16,
   "metadata": {},
   "outputs": [
    {
     "name": "stdout",
     "output_type": "stream",
     "text": [
      "Number of countries: 50\n"
     ]
    }
   ],
   "source": [
    "print('Number of countries:', health_df['Country Code'].nunique())"
   ]
  },
  {
   "cell_type": "code",
   "execution_count": 17,
   "metadata": {},
   "outputs": [
    {
     "name": "stdout",
     "output_type": "stream",
     "text": [
      "% missing data: 0.0\n"
     ]
    }
   ],
   "source": [
    "print('% missing data:', health_df.HealthInd.isnull().mean())"
   ]
  },
  {
   "cell_type": "code",
   "execution_count": 18,
   "metadata": {},
   "outputs": [
    {
     "name": "stdout",
     "output_type": "stream",
     "text": [
      "% missing data from 1990 - 2019: 0.0\n"
     ]
    }
   ],
   "source": [
    "print('% missing data from 1990 - 2019:', health_df[health_df.Year.isin(official_range)].HealthInd.isnull().mean())"
   ]
  },
  {
   "cell_type": "markdown",
   "metadata": {},
   "source": [
    "### GBD"
   ]
  },
  {
   "cell_type": "code",
   "execution_count": 18,
   "metadata": {},
   "outputs": [],
   "source": [
    "global_burden_diseases = pd.read_csv('../data/raw/gbd_ischemicheartdiseaseglobal.csv')"
   ]
  },
  {
   "cell_type": "code",
   "execution_count": 19,
   "metadata": {},
   "outputs": [
    {
     "name": "stdout",
     "output_type": "stream",
     "text": [
      "======= IHD data ========\n"
     ]
    }
   ],
   "source": [
    "print('======= IHD data ========')"
   ]
  },
  {
   "cell_type": "code",
   "execution_count": 20,
   "metadata": {},
   "outputs": [],
   "source": [
    "gbd = global_burden_diseases[global_burden_diseases.measure_name == 'Deaths']"
   ]
  },
  {
   "cell_type": "code",
   "execution_count": 21,
   "metadata": {},
   "outputs": [
    {
     "data": {
      "text/plain": [
       "30"
      ]
     },
     "execution_count": 21,
     "metadata": {},
     "output_type": "execute_result"
    }
   ],
   "source": [
    "gbd.groupby('location_name').year.nunique().min()"
   ]
  },
  {
   "cell_type": "code",
   "execution_count": 22,
   "metadata": {},
   "outputs": [
    {
     "name": "stdout",
     "output_type": "stream",
     "text": [
      "IHD data year range: 1990 2019\n"
     ]
    }
   ],
   "source": [
    "print('IHD data year range:', gbd.year.min(), gbd.year.max())"
   ]
  },
  {
   "cell_type": "code",
   "execution_count": 23,
   "metadata": {},
   "outputs": [
    {
     "name": "stdout",
     "output_type": "stream",
     "text": [
      "Number of countries: 206\n"
     ]
    }
   ],
   "source": [
    "print('Number of countries:', gbd['location_name'].nunique())"
   ]
  },
  {
   "cell_type": "code",
   "execution_count": 24,
   "metadata": {},
   "outputs": [
    {
     "data": {
      "text/html": [
       "<div>\n",
       "<style scoped>\n",
       "    .dataframe tbody tr th:only-of-type {\n",
       "        vertical-align: middle;\n",
       "    }\n",
       "\n",
       "    .dataframe tbody tr th {\n",
       "        vertical-align: top;\n",
       "    }\n",
       "\n",
       "    .dataframe thead th {\n",
       "        text-align: right;\n",
       "    }\n",
       "</style>\n",
       "<table border=\"1\" class=\"dataframe\">\n",
       "  <thead>\n",
       "    <tr style=\"text-align: right;\">\n",
       "      <th></th>\n",
       "      <th>measure_id</th>\n",
       "      <th>measure_name</th>\n",
       "      <th>location_id</th>\n",
       "      <th>location_name</th>\n",
       "      <th>sex_id</th>\n",
       "      <th>sex_name</th>\n",
       "      <th>age_id</th>\n",
       "      <th>age_name</th>\n",
       "      <th>cause_id</th>\n",
       "      <th>cause_name</th>\n",
       "      <th>metric_id</th>\n",
       "      <th>metric_name</th>\n",
       "      <th>year</th>\n",
       "      <th>val</th>\n",
       "      <th>upper</th>\n",
       "      <th>lower</th>\n",
       "    </tr>\n",
       "  </thead>\n",
       "  <tbody>\n",
       "    <tr>\n",
       "      <th>0</th>\n",
       "      <td>1</td>\n",
       "      <td>Deaths</td>\n",
       "      <td>82</td>\n",
       "      <td>Greece</td>\n",
       "      <td>3</td>\n",
       "      <td>Both</td>\n",
       "      <td>8</td>\n",
       "      <td>15-19 years</td>\n",
       "      <td>493</td>\n",
       "      <td>Ischemic heart disease</td>\n",
       "      <td>3</td>\n",
       "      <td>Rate</td>\n",
       "      <td>1990</td>\n",
       "      <td>0.299904</td>\n",
       "      <td>0.362727</td>\n",
       "      <td>0.245077</td>\n",
       "    </tr>\n",
       "    <tr>\n",
       "      <th>1</th>\n",
       "      <td>1</td>\n",
       "      <td>Deaths</td>\n",
       "      <td>82</td>\n",
       "      <td>Greece</td>\n",
       "      <td>3</td>\n",
       "      <td>Both</td>\n",
       "      <td>9</td>\n",
       "      <td>20-24 years</td>\n",
       "      <td>493</td>\n",
       "      <td>Ischemic heart disease</td>\n",
       "      <td>3</td>\n",
       "      <td>Rate</td>\n",
       "      <td>1990</td>\n",
       "      <td>2.819735</td>\n",
       "      <td>3.268572</td>\n",
       "      <td>2.390882</td>\n",
       "    </tr>\n",
       "    <tr>\n",
       "      <th>2</th>\n",
       "      <td>1</td>\n",
       "      <td>Deaths</td>\n",
       "      <td>82</td>\n",
       "      <td>Greece</td>\n",
       "      <td>3</td>\n",
       "      <td>Both</td>\n",
       "      <td>10</td>\n",
       "      <td>25-29 years</td>\n",
       "      <td>493</td>\n",
       "      <td>Ischemic heart disease</td>\n",
       "      <td>3</td>\n",
       "      <td>Rate</td>\n",
       "      <td>1990</td>\n",
       "      <td>4.226114</td>\n",
       "      <td>4.822198</td>\n",
       "      <td>3.692606</td>\n",
       "    </tr>\n",
       "    <tr>\n",
       "      <th>3</th>\n",
       "      <td>1</td>\n",
       "      <td>Deaths</td>\n",
       "      <td>82</td>\n",
       "      <td>Greece</td>\n",
       "      <td>3</td>\n",
       "      <td>Both</td>\n",
       "      <td>11</td>\n",
       "      <td>30-34 years</td>\n",
       "      <td>493</td>\n",
       "      <td>Ischemic heart disease</td>\n",
       "      <td>3</td>\n",
       "      <td>Rate</td>\n",
       "      <td>1990</td>\n",
       "      <td>7.773120</td>\n",
       "      <td>8.734354</td>\n",
       "      <td>6.820362</td>\n",
       "    </tr>\n",
       "    <tr>\n",
       "      <th>4</th>\n",
       "      <td>1</td>\n",
       "      <td>Deaths</td>\n",
       "      <td>82</td>\n",
       "      <td>Greece</td>\n",
       "      <td>3</td>\n",
       "      <td>Both</td>\n",
       "      <td>12</td>\n",
       "      <td>35-39 years</td>\n",
       "      <td>493</td>\n",
       "      <td>Ischemic heart disease</td>\n",
       "      <td>3</td>\n",
       "      <td>Rate</td>\n",
       "      <td>1990</td>\n",
       "      <td>15.752949</td>\n",
       "      <td>17.453460</td>\n",
       "      <td>14.201794</td>\n",
       "    </tr>\n",
       "  </tbody>\n",
       "</table>\n",
       "</div>"
      ],
      "text/plain": [
       "   measure_id measure_name  location_id location_name  sex_id sex_name  \\\n",
       "0           1       Deaths           82        Greece       3     Both   \n",
       "1           1       Deaths           82        Greece       3     Both   \n",
       "2           1       Deaths           82        Greece       3     Both   \n",
       "3           1       Deaths           82        Greece       3     Both   \n",
       "4           1       Deaths           82        Greece       3     Both   \n",
       "\n",
       "   age_id     age_name  cause_id              cause_name  metric_id  \\\n",
       "0       8  15-19 years       493  Ischemic heart disease          3   \n",
       "1       9  20-24 years       493  Ischemic heart disease          3   \n",
       "2      10  25-29 years       493  Ischemic heart disease          3   \n",
       "3      11  30-34 years       493  Ischemic heart disease          3   \n",
       "4      12  35-39 years       493  Ischemic heart disease          3   \n",
       "\n",
       "  metric_name  year        val      upper      lower  \n",
       "0        Rate  1990   0.299904   0.362727   0.245077  \n",
       "1        Rate  1990   2.819735   3.268572   2.390882  \n",
       "2        Rate  1990   4.226114   4.822198   3.692606  \n",
       "3        Rate  1990   7.773120   8.734354   6.820362  \n",
       "4        Rate  1990  15.752949  17.453460  14.201794  "
      ]
     },
     "execution_count": 24,
     "metadata": {},
     "output_type": "execute_result"
    }
   ],
   "source": [
    "gbd.head()"
   ]
  },
  {
   "cell_type": "code",
   "execution_count": 25,
   "metadata": {},
   "outputs": [
    {
     "name": "stdout",
     "output_type": "stream",
     "text": [
      "% missing data: 0.0\n"
     ]
    }
   ],
   "source": [
    "print('% missing data:', gbd.val.isnull().mean())"
   ]
  },
  {
   "cell_type": "code",
   "execution_count": 26,
   "metadata": {},
   "outputs": [],
   "source": [
    "# global_burden_diseases.isnull().mean()"
   ]
  },
  {
   "cell_type": "markdown",
   "metadata": {},
   "source": [
    "## Fat"
   ]
  },
  {
   "cell_type": "code",
   "execution_count": 27,
   "metadata": {},
   "outputs": [],
   "source": [
    "def count_countries(series):\n",
    "    print('Number of countries:', series.nunique())\n",
    "\n",
    "def year_range(series):\n",
    "    print('year range:', series.min(), series.max())\n",
    "\n",
    "def count_missing(series):\n",
    "    print('% missing data:', series.isnull().mean())"
   ]
  },
  {
   "cell_type": "code",
   "execution_count": 28,
   "metadata": {},
   "outputs": [],
   "source": [
    "fat_df = pd.read_csv(DATA_PATH+'/daily_per_capita_fat_supply_final.csv')\n",
    "fat_df = fat_df.rename({'Value': 'Fat'}, axis=1).drop(['Country Name', 'Series Name'], axis=1)"
   ]
  },
  {
   "cell_type": "code",
   "execution_count": 29,
   "metadata": {},
   "outputs": [
    {
     "name": "stdout",
     "output_type": "stream",
     "text": [
      "======= Fat consumption data ========\n"
     ]
    }
   ],
   "source": [
    "print('======= Fat consumption data ========')"
   ]
  },
  {
   "cell_type": "code",
   "execution_count": 30,
   "metadata": {},
   "outputs": [
    {
     "name": "stdout",
     "output_type": "stream",
     "text": [
      "Number of countries: 194\n",
      "year range: 1961 2020\n",
      "% missing data: 0.0\n"
     ]
    }
   ],
   "source": [
    "count_countries(fat_df['Country Code'])\n",
    "year_range(fat_df['Year'])\n",
    "count_missing(fat_df[fat_df.Year.isin(official_range)]['Fat'])"
   ]
  },
  {
   "cell_type": "code",
   "execution_count": 31,
   "metadata": {},
   "outputs": [
    {
     "data": {
      "text/html": [
       "<div>\n",
       "<style scoped>\n",
       "    .dataframe tbody tr th:only-of-type {\n",
       "        vertical-align: middle;\n",
       "    }\n",
       "\n",
       "    .dataframe tbody tr th {\n",
       "        vertical-align: top;\n",
       "    }\n",
       "\n",
       "    .dataframe thead th {\n",
       "        text-align: right;\n",
       "    }\n",
       "</style>\n",
       "<table border=\"1\" class=\"dataframe\">\n",
       "  <thead>\n",
       "    <tr style=\"text-align: right;\">\n",
       "      <th></th>\n",
       "      <th>Country Code</th>\n",
       "      <th>Year</th>\n",
       "      <th>Fat</th>\n",
       "    </tr>\n",
       "  </thead>\n",
       "  <tbody>\n",
       "    <tr>\n",
       "      <th>0</th>\n",
       "      <td>AFG</td>\n",
       "      <td>1961</td>\n",
       "      <td>38.209236</td>\n",
       "    </tr>\n",
       "    <tr>\n",
       "      <th>1</th>\n",
       "      <td>AFG</td>\n",
       "      <td>1962</td>\n",
       "      <td>38.335213</td>\n",
       "    </tr>\n",
       "    <tr>\n",
       "      <th>2</th>\n",
       "      <td>AFG</td>\n",
       "      <td>1963</td>\n",
       "      <td>39.338820</td>\n",
       "    </tr>\n",
       "    <tr>\n",
       "      <th>3</th>\n",
       "      <td>AFG</td>\n",
       "      <td>1964</td>\n",
       "      <td>39.747234</td>\n",
       "    </tr>\n",
       "    <tr>\n",
       "      <th>4</th>\n",
       "      <td>AFG</td>\n",
       "      <td>1965</td>\n",
       "      <td>40.560085</td>\n",
       "    </tr>\n",
       "    <tr>\n",
       "      <th>...</th>\n",
       "      <td>...</td>\n",
       "      <td>...</td>\n",
       "      <td>...</td>\n",
       "    </tr>\n",
       "    <tr>\n",
       "      <th>12355</th>\n",
       "      <td>ZWE</td>\n",
       "      <td>2016</td>\n",
       "      <td>66.536940</td>\n",
       "    </tr>\n",
       "    <tr>\n",
       "      <th>12356</th>\n",
       "      <td>ZWE</td>\n",
       "      <td>2017</td>\n",
       "      <td>62.848648</td>\n",
       "    </tr>\n",
       "    <tr>\n",
       "      <th>12357</th>\n",
       "      <td>ZWE</td>\n",
       "      <td>2018</td>\n",
       "      <td>64.250500</td>\n",
       "    </tr>\n",
       "    <tr>\n",
       "      <th>12358</th>\n",
       "      <td>ZWE</td>\n",
       "      <td>2019</td>\n",
       "      <td>56.008080</td>\n",
       "    </tr>\n",
       "    <tr>\n",
       "      <th>12359</th>\n",
       "      <td>ZWE</td>\n",
       "      <td>2020</td>\n",
       "      <td>60.942127</td>\n",
       "    </tr>\n",
       "  </tbody>\n",
       "</table>\n",
       "<p>12360 rows × 3 columns</p>\n",
       "</div>"
      ],
      "text/plain": [
       "      Country Code  Year        Fat\n",
       "0              AFG  1961  38.209236\n",
       "1              AFG  1962  38.335213\n",
       "2              AFG  1963  39.338820\n",
       "3              AFG  1964  39.747234\n",
       "4              AFG  1965  40.560085\n",
       "...            ...   ...        ...\n",
       "12355          ZWE  2016  66.536940\n",
       "12356          ZWE  2017  62.848648\n",
       "12357          ZWE  2018  64.250500\n",
       "12358          ZWE  2019  56.008080\n",
       "12359          ZWE  2020  60.942127\n",
       "\n",
       "[12360 rows x 3 columns]"
      ]
     },
     "execution_count": 31,
     "metadata": {},
     "output_type": "execute_result"
    }
   ],
   "source": [
    "fat_df"
   ]
  },
  {
   "cell_type": "markdown",
   "metadata": {},
   "source": [
    "## Alcohol"
   ]
  },
  {
   "cell_type": "code",
   "execution_count": 32,
   "metadata": {},
   "outputs": [
    {
     "data": {
      "text/html": [
       "<div>\n",
       "<style scoped>\n",
       "    .dataframe tbody tr th:only-of-type {\n",
       "        vertical-align: middle;\n",
       "    }\n",
       "\n",
       "    .dataframe tbody tr th {\n",
       "        vertical-align: top;\n",
       "    }\n",
       "\n",
       "    .dataframe thead th {\n",
       "        text-align: right;\n",
       "    }\n",
       "</style>\n",
       "<table border=\"1\" class=\"dataframe\">\n",
       "  <thead>\n",
       "    <tr style=\"text-align: right;\">\n",
       "      <th></th>\n",
       "      <th>LOCATION</th>\n",
       "      <th>INDICATOR</th>\n",
       "      <th>SUBJECT</th>\n",
       "      <th>MEASURE</th>\n",
       "      <th>FREQUENCY</th>\n",
       "      <th>TIME</th>\n",
       "      <th>Alcohol</th>\n",
       "      <th>Flag Codes</th>\n",
       "    </tr>\n",
       "  </thead>\n",
       "  <tbody>\n",
       "    <tr>\n",
       "      <th>0</th>\n",
       "      <td>AUS</td>\n",
       "      <td>ALCOHOL</td>\n",
       "      <td>TOT</td>\n",
       "      <td>LT_CAP15</td>\n",
       "      <td>A</td>\n",
       "      <td>1960</td>\n",
       "      <td>9.3</td>\n",
       "      <td>NaN</td>\n",
       "    </tr>\n",
       "    <tr>\n",
       "      <th>1</th>\n",
       "      <td>AUS</td>\n",
       "      <td>ALCOHOL</td>\n",
       "      <td>TOT</td>\n",
       "      <td>LT_CAP15</td>\n",
       "      <td>A</td>\n",
       "      <td>1961</td>\n",
       "      <td>9.4</td>\n",
       "      <td>NaN</td>\n",
       "    </tr>\n",
       "    <tr>\n",
       "      <th>2</th>\n",
       "      <td>AUS</td>\n",
       "      <td>ALCOHOL</td>\n",
       "      <td>TOT</td>\n",
       "      <td>LT_CAP15</td>\n",
       "      <td>A</td>\n",
       "      <td>1962</td>\n",
       "      <td>9.5</td>\n",
       "      <td>NaN</td>\n",
       "    </tr>\n",
       "    <tr>\n",
       "      <th>3</th>\n",
       "      <td>AUS</td>\n",
       "      <td>ALCOHOL</td>\n",
       "      <td>TOT</td>\n",
       "      <td>LT_CAP15</td>\n",
       "      <td>A</td>\n",
       "      <td>1963</td>\n",
       "      <td>9.8</td>\n",
       "      <td>NaN</td>\n",
       "    </tr>\n",
       "    <tr>\n",
       "      <th>4</th>\n",
       "      <td>AUS</td>\n",
       "      <td>ALCOHOL</td>\n",
       "      <td>TOT</td>\n",
       "      <td>LT_CAP15</td>\n",
       "      <td>A</td>\n",
       "      <td>1964</td>\n",
       "      <td>10.1</td>\n",
       "      <td>NaN</td>\n",
       "    </tr>\n",
       "    <tr>\n",
       "      <th>...</th>\n",
       "      <td>...</td>\n",
       "      <td>...</td>\n",
       "      <td>...</td>\n",
       "      <td>...</td>\n",
       "      <td>...</td>\n",
       "      <td>...</td>\n",
       "      <td>...</td>\n",
       "      <td>...</td>\n",
       "    </tr>\n",
       "    <tr>\n",
       "      <th>2747</th>\n",
       "      <td>ROU</td>\n",
       "      <td>ALCOHOL</td>\n",
       "      <td>TOT</td>\n",
       "      <td>LT_CAP15</td>\n",
       "      <td>A</td>\n",
       "      <td>2015</td>\n",
       "      <td>9.5</td>\n",
       "      <td>NaN</td>\n",
       "    </tr>\n",
       "    <tr>\n",
       "      <th>2748</th>\n",
       "      <td>ROU</td>\n",
       "      <td>ALCOHOL</td>\n",
       "      <td>TOT</td>\n",
       "      <td>LT_CAP15</td>\n",
       "      <td>A</td>\n",
       "      <td>2016</td>\n",
       "      <td>9.6</td>\n",
       "      <td>NaN</td>\n",
       "    </tr>\n",
       "    <tr>\n",
       "      <th>2749</th>\n",
       "      <td>ROU</td>\n",
       "      <td>ALCOHOL</td>\n",
       "      <td>TOT</td>\n",
       "      <td>LT_CAP15</td>\n",
       "      <td>A</td>\n",
       "      <td>2017</td>\n",
       "      <td>10.1</td>\n",
       "      <td>NaN</td>\n",
       "    </tr>\n",
       "    <tr>\n",
       "      <th>2750</th>\n",
       "      <td>ROU</td>\n",
       "      <td>ALCOHOL</td>\n",
       "      <td>TOT</td>\n",
       "      <td>LT_CAP15</td>\n",
       "      <td>A</td>\n",
       "      <td>2018</td>\n",
       "      <td>11.0</td>\n",
       "      <td>NaN</td>\n",
       "    </tr>\n",
       "    <tr>\n",
       "      <th>2751</th>\n",
       "      <td>ROU</td>\n",
       "      <td>ALCOHOL</td>\n",
       "      <td>TOT</td>\n",
       "      <td>LT_CAP15</td>\n",
       "      <td>A</td>\n",
       "      <td>2019</td>\n",
       "      <td>11.0</td>\n",
       "      <td>NaN</td>\n",
       "    </tr>\n",
       "  </tbody>\n",
       "</table>\n",
       "<p>2752 rows × 8 columns</p>\n",
       "</div>"
      ],
      "text/plain": [
       "     LOCATION INDICATOR SUBJECT   MEASURE FREQUENCY  TIME  Alcohol Flag Codes\n",
       "0         AUS   ALCOHOL     TOT  LT_CAP15         A  1960      9.3        NaN\n",
       "1         AUS   ALCOHOL     TOT  LT_CAP15         A  1961      9.4        NaN\n",
       "2         AUS   ALCOHOL     TOT  LT_CAP15         A  1962      9.5        NaN\n",
       "3         AUS   ALCOHOL     TOT  LT_CAP15         A  1963      9.8        NaN\n",
       "4         AUS   ALCOHOL     TOT  LT_CAP15         A  1964     10.1        NaN\n",
       "...       ...       ...     ...       ...       ...   ...      ...        ...\n",
       "2747      ROU   ALCOHOL     TOT  LT_CAP15         A  2015      9.5        NaN\n",
       "2748      ROU   ALCOHOL     TOT  LT_CAP15         A  2016      9.6        NaN\n",
       "2749      ROU   ALCOHOL     TOT  LT_CAP15         A  2017     10.1        NaN\n",
       "2750      ROU   ALCOHOL     TOT  LT_CAP15         A  2018     11.0        NaN\n",
       "2751      ROU   ALCOHOL     TOT  LT_CAP15         A  2019     11.0        NaN\n",
       "\n",
       "[2752 rows x 8 columns]"
      ]
     },
     "execution_count": 32,
     "metadata": {},
     "output_type": "execute_result"
    }
   ],
   "source": [
    "alc_df = pd.read_csv('../data/raw/alcohol_germany.csv')\n",
    "alc_df = alc_df.rename({'Value': 'Alcohol'}, axis=1)\n",
    "alc_df"
   ]
  },
  {
   "cell_type": "code",
   "execution_count": 33,
   "metadata": {},
   "outputs": [
    {
     "name": "stdout",
     "output_type": "stream",
     "text": [
      "======= Alcohol consumption data ========\n"
     ]
    }
   ],
   "source": [
    "print('======= Alcohol consumption data ========')"
   ]
  },
  {
   "cell_type": "code",
   "execution_count": 34,
   "metadata": {},
   "outputs": [
    {
     "name": "stdout",
     "output_type": "stream",
     "text": [
      "Number of countries: 49\n",
      "year range: 1960 2022\n",
      "% missing data: 0.0\n"
     ]
    },
    {
     "data": {
      "text/plain": [
       "array([1990, 1991, 1992, 1993, 1994, 1995, 1996, 1997, 1998, 1999, 2000,\n",
       "       2001, 2002, 2003, 2004, 2005, 2006, 2007, 2008, 2009, 2010, 2011,\n",
       "       2012, 2013, 2014, 2015, 2016, 2017, 2018, 2019], dtype=int64)"
      ]
     },
     "execution_count": 34,
     "metadata": {},
     "output_type": "execute_result"
    }
   ],
   "source": [
    "count_countries(alc_df['LOCATION'])\n",
    "year_range(alc_df['TIME'])\n",
    "count_missing(alc_df[alc_df.TIME.isin(official_range)]['Alcohol'])\n",
    "alc_df[alc_df.TIME.isin(official_range)]['TIME'].unique()"
   ]
  },
  {
   "cell_type": "markdown",
   "metadata": {},
   "source": [
    "## Age"
   ]
  },
  {
   "cell_type": "code",
   "execution_count": 35,
   "metadata": {},
   "outputs": [],
   "source": [
    "age_df = pd.read_csv('../data/raw/median-age.csv')\n",
    "age_df = age_df[['Code', 'Year', 'Median age - Sex: all - Age: all - Variant: estimates']]\n",
    "age_df.columns = ['Country Code', 'Year', 'Age']"
   ]
  },
  {
   "cell_type": "code",
   "execution_count": 36,
   "metadata": {},
   "outputs": [
    {
     "name": "stdout",
     "output_type": "stream",
     "text": [
      "======= Age data ========\n"
     ]
    }
   ],
   "source": [
    "print('======= Age data ========')"
   ]
  },
  {
   "cell_type": "code",
   "execution_count": 37,
   "metadata": {},
   "outputs": [
    {
     "name": "stdout",
     "output_type": "stream",
     "text": [
      "Number of countries: 238\n",
      "year range: 1950 2100\n",
      "% missing data: 0.0\n"
     ]
    }
   ],
   "source": [
    "count_countries(age_df['Country Code'])\n",
    "year_range(age_df['Year'])\n",
    "count_missing(age_df[age_df.Year.isin(official_range)]['Age'])"
   ]
  },
  {
   "cell_type": "code",
   "execution_count": 38,
   "metadata": {},
   "outputs": [],
   "source": [
    "# final_df = df.merge(health_df, on=['Country Code', 'Year'])\n",
    "# final_df = final_df.merge(alc_df, on=['Country Code', 'Year'])\n",
    "# final_df = final_df.merge(fat_df, on=['Country Code', 'Year'])\n",
    "# final_df = final_df.merge(age_df, on=['Country Code', 'Year'])"
   ]
  },
  {
   "cell_type": "code",
   "execution_count": 39,
   "metadata": {},
   "outputs": [],
   "source": [
    "# count_countries(final_df['Country Code'])"
   ]
  },
  {
   "cell_type": "code",
   "execution_count": null,
   "metadata": {},
   "outputs": [],
   "source": []
  }
 ],
 "metadata": {
  "kernelspec": {
   "display_name": "Python 3.7.11 ('py3')",
   "language": "python",
   "name": "python3"
  },
  "language_info": {
   "codemirror_mode": {
    "name": "ipython",
    "version": 3
   },
   "file_extension": ".py",
   "mimetype": "text/x-python",
   "name": "python",
   "nbconvert_exporter": "python",
   "pygments_lexer": "ipython3",
   "version": "3.10.0"
  },
  "vscode": {
   "interpreter": {
    "hash": "d7b89e158b719c02a21186c9646700ecf5a8cc5b1b6f738df9b6ffa75e5e74e4"
   }
  }
 },
 "nbformat": 4,
 "nbformat_minor": 2
}
