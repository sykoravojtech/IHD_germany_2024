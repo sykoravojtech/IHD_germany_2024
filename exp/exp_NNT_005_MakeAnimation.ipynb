{
 "cells": [
  {
   "cell_type": "code",
   "execution_count": 2,
   "metadata": {},
   "outputs": [],
   "source": [
    "import numpy as np\n",
    "import matplotlib.pyplot as plt\n",
    "import imageio\n",
    "import os\n",
    "import pandas as pd\n",
    "import geopandas as gpd"
   ]
  },
  {
   "cell_type": "code",
   "execution_count": 48,
   "metadata": {},
   "outputs": [],
   "source": [
    "import sys\n",
    "sys.path.append('..')\n",
    "from src.plotting import custom_cmap\n",
    "\n",
    "from tueplots import bundles\n",
    "from tueplots.constants.color import rgb\n",
    "from matplotlib.colors import LinearSegmentedColormap\n",
    "\n",
    "from pathlib import Path\n",
    "# Add the parent directory to the sys.path (without this we cannot import constants or scripts)\n",
    "sys.path.insert(0, str(Path.cwd().parent))\n",
    "\n",
    "from src.utils import get_iso3_gbd\n",
    "\n",
    "import warnings\n",
    "\n",
    "# Suppress FutureWarnings\n",
    "warnings.simplefilter(action='ignore', category=FutureWarning)\n"
   ]
  },
  {
   "cell_type": "code",
   "execution_count": 5,
   "metadata": {},
   "outputs": [],
   "source": [
    "blue = rgb.tue_blue\n",
    "red = rgb.tue_red\n",
    "# make red a bit lighter, but not towards pink, less blue\n",
    "red = (red[0]*1.5, red[1] * 0.8, red[2] * 0.8)\n",
    "# Create a colormap\n",
    "cmap = LinearSegmentedColormap.from_list('blue_to_red', [blue, red])\n"
   ]
  },
  {
   "cell_type": "code",
   "execution_count": 29,
   "metadata": {},
   "outputs": [],
   "source": [
    "# Load the world map data using geopandas\n",
    "plt.rcParams.update(bundles.icml2022(column=\"full\", ncols=2, nrows=1))\n",
    "\n",
    "def plot_world_map(filename, data, country_col, measured_col, label, year, title, vmin, vmax):\n",
    "    \n",
    "    world = gpd.read_file(gpd.datasets.get_path('naturalearth_lowres'))\n",
    "\n",
    "    # Merge your data with the geopandas DataFrame using country names\n",
    "    merged = world.merge(data[data.year==year], how='left', left_on='iso_a3', right_on=country_col)\n",
    "\n",
    "    # Fill NaN values (countries with no deaths) with 0\n",
    "    merged[measured_col] = merged[measured_col].fillna(0)\n",
    "    \n",
    "    # Plotting the map\n",
    "    # fig, ax = plt.subplots(1, 1, figsize=(15, 10))\n",
    "\n",
    "    \n",
    "    ax = merged.plot(column=measured_col, cmap=cmap, linewidth=0.2, edgecolor='0.2', legend=True,\n",
    "                legend_kwds={'label': label, 'orientation': \"horizontal\"}, vmin=vmin, vmax=vmax,\n",
    "               )\n",
    "    ax.set_title(title + ' ' + str(year))\n",
    "\n",
    "    ax.axis('off')\n",
    "\n",
    "    chart = ax.get_figure()\n",
    "    chart.savefig(filename, dpi=600)\n",
    "    plt.close()\n",
    "    # return ax"
   ]
  },
  {
   "cell_type": "code",
   "execution_count": 56,
   "metadata": {},
   "outputs": [],
   "source": [
    "def generate_animation(df, country_col, measured_col, label, gif_name, title):\n",
    "    vmin = df[measured_col].min()\n",
    "    vmax = df[measured_col].max()\n",
    "    filenames = []\n",
    "    for year in range(1990, 2020):\n",
    "        filename = f'year_{year}.png'\n",
    "        plot_world_map(filename, df, country_col=country_col, measured_col=measured_col,  label=label, year=year, title=title, vmin=vmin, vmax=vmax)\n",
    "        filenames.append(filename)\n",
    "\n",
    "    # Create gif\n",
    "    with imageio.get_writer(f'output/animations/{gif_name}.gif', mode='I', duration=0.8) as writer:\n",
    "        for filename in filenames:\n",
    "            image = imageio.imread(filename)\n",
    "            writer.append_data(image)\n",
    "\n",
    "    # Remove files\n",
    "    for filename in filenames:\n",
    "        os.remove(filename)"
   ]
  },
  {
   "cell_type": "code",
   "execution_count": 57,
   "metadata": {},
   "outputs": [
    {
     "data": {
      "text/html": [
       "<div>\n",
       "<style scoped>\n",
       "    .dataframe tbody tr th:only-of-type {\n",
       "        vertical-align: middle;\n",
       "    }\n",
       "\n",
       "    .dataframe tbody tr th {\n",
       "        vertical-align: top;\n",
       "    }\n",
       "\n",
       "    .dataframe thead th {\n",
       "        text-align: right;\n",
       "    }\n",
       "</style>\n",
       "<table border=\"1\" class=\"dataframe\">\n",
       "  <thead>\n",
       "    <tr style=\"text-align: right;\">\n",
       "      <th></th>\n",
       "      <th>measure_name</th>\n",
       "      <th>location_name</th>\n",
       "      <th>metric_name</th>\n",
       "      <th>year</th>\n",
       "      <th>val</th>\n",
       "      <th>iso_a3</th>\n",
       "    </tr>\n",
       "  </thead>\n",
       "  <tbody>\n",
       "    <tr>\n",
       "      <th>0</th>\n",
       "      <td>Deaths</td>\n",
       "      <td>Global</td>\n",
       "      <td>Percent</td>\n",
       "      <td>1990</td>\n",
       "      <td>0.258754</td>\n",
       "      <td>GLB</td>\n",
       "    </tr>\n",
       "    <tr>\n",
       "      <th>1</th>\n",
       "      <td>Deaths</td>\n",
       "      <td>Global</td>\n",
       "      <td>Rate</td>\n",
       "      <td>1990</td>\n",
       "      <td>225.584376</td>\n",
       "      <td>GLB</td>\n",
       "    </tr>\n",
       "    <tr>\n",
       "      <th>2</th>\n",
       "      <td>Deaths</td>\n",
       "      <td>Timor-Leste</td>\n",
       "      <td>Percent</td>\n",
       "      <td>1990</td>\n",
       "      <td>0.080068</td>\n",
       "      <td>TLS</td>\n",
       "    </tr>\n",
       "    <tr>\n",
       "      <th>3</th>\n",
       "      <td>Deaths</td>\n",
       "      <td>Timor-Leste</td>\n",
       "      <td>Rate</td>\n",
       "      <td>1990</td>\n",
       "      <td>79.809246</td>\n",
       "      <td>TLS</td>\n",
       "    </tr>\n",
       "    <tr>\n",
       "      <th>4</th>\n",
       "      <td>Deaths</td>\n",
       "      <td>Japan</td>\n",
       "      <td>Percent</td>\n",
       "      <td>1990</td>\n",
       "      <td>0.348712</td>\n",
       "      <td>JPN</td>\n",
       "    </tr>\n",
       "  </tbody>\n",
       "</table>\n",
       "</div>"
      ],
      "text/plain": [
       "  measure_name location_name metric_name  year         val iso_a3\n",
       "0       Deaths        Global     Percent  1990    0.258754    GLB\n",
       "1       Deaths        Global        Rate  1990  225.584376    GLB\n",
       "2       Deaths   Timor-Leste     Percent  1990    0.080068    TLS\n",
       "3       Deaths   Timor-Leste        Rate  1990   79.809246    TLS\n",
       "4       Deaths         Japan     Percent  1990    0.348712    JPN"
      ]
     },
     "execution_count": 57,
     "metadata": {},
     "output_type": "execute_result"
    }
   ],
   "source": [
    "df = pd.read_csv('../data/final/gbd_cardiovascular_allAges_final.csv')\n",
    "death_df = df[(df.measure_name == \"Deaths\")]\n",
    "death_df = death_df.rename({'Country Code': 'iso_a3'}, axis=1)\n",
    "death_df.head()"
   ]
  },
  {
   "cell_type": "code",
   "execution_count": 58,
   "metadata": {},
   "outputs": [
    {
     "name": "stderr",
     "output_type": "stream",
     "text": [
      "C:\\Users\\HP\\AppData\\Local\\Temp\\ipykernel_12716\\2822330716.py:13: DeprecationWarning: Starting with ImageIO v3 the behavior of this function will switch to that of iio.v3.imread. To keep the current behavior (and make this warning disappear) use `import imageio.v2 as imageio` or call `imageio.v2.imread` directly.\n",
      "  image = imageio.imread(filename)\n"
     ]
    }
   ],
   "source": [
    "generate_animation(death_df, country_col='iso_a3', measured_col='val', label='Death Rate', gif_name='cvd_deaths', title='Death Rate due to Cardiovascular Diseases')"
   ]
  },
  {
   "cell_type": "code",
   "execution_count": 59,
   "metadata": {},
   "outputs": [
    {
     "name": "stderr",
     "output_type": "stream",
     "text": [
      "C:\\Users\\HP\\AppData\\Local\\Temp\\ipykernel_12716\\2822330716.py:13: DeprecationWarning: Starting with ImageIO v3 the behavior of this function will switch to that of iio.v3.imread. To keep the current behavior (and make this warning disappear) use `import imageio.v2 as imageio` or call `imageio.v2.imread` directly.\n",
      "  image = imageio.imread(filename)\n"
     ]
    }
   ],
   "source": [
    "df = pd.read_csv('../data/final/gbd_cardiovascular_allAges_final.csv')\n",
    "death_df = df[(df.measure_name == \"Incidence\")]\n",
    "death_df = death_df.rename({'Country Code': 'iso_a3'}, axis=1)\n",
    "generate_animation(death_df, country_col='iso_a3', measured_col='val', label='Incidence Rate', gif_name='cvd_incidence', title='Incidence Rate of Cardiovascular Diseases')"
   ]
  },
  {
   "cell_type": "code",
   "execution_count": 60,
   "metadata": {},
   "outputs": [
    {
     "name": "stderr",
     "output_type": "stream",
     "text": [
      "C:\\Users\\HP\\AppData\\Local\\Temp\\ipykernel_12716\\2822330716.py:13: DeprecationWarning: Starting with ImageIO v3 the behavior of this function will switch to that of iio.v3.imread. To keep the current behavior (and make this warning disappear) use `import imageio.v2 as imageio` or call `imageio.v2.imread` directly.\n",
      "  image = imageio.imread(filename)\n"
     ]
    }
   ],
   "source": [
    "df = pd.read_csv('../data/final/gbd_IschemicHeartDisease_DeathsIncidence.csv')\n",
    "df['iso_a3'] = df['location_name'].apply(get_iso3_gbd)\n",
    "df = df[df['measure_name'] == 'Deaths']\n",
    "generate_animation(df, country_col='iso_a3', measured_col='Value', label='Death Rate', gif_name='ihd_deaths', title='Death Rate due to Ischemic Heart Disease')"
   ]
  },
  {
   "cell_type": "code",
   "execution_count": 61,
   "metadata": {},
   "outputs": [
    {
     "name": "stderr",
     "output_type": "stream",
     "text": [
      "C:\\Users\\HP\\AppData\\Local\\Temp\\ipykernel_12716\\2822330716.py:13: DeprecationWarning: Starting with ImageIO v3 the behavior of this function will switch to that of iio.v3.imread. To keep the current behavior (and make this warning disappear) use `import imageio.v2 as imageio` or call `imageio.v2.imread` directly.\n",
      "  image = imageio.imread(filename)\n"
     ]
    }
   ],
   "source": [
    "df = pd.read_csv('../data/final/gbd_IschemicHeartDisease_DeathsIncidence.csv')\n",
    "df['iso_a3'] = df['location_name'].apply(get_iso3_gbd)\n",
    "df = df[df['measure_name'] == 'Incidence']\n",
    "generate_animation(df, country_col='iso_a3', measured_col='Value', label='Death Rate', gif_name='ihd_incidence', title='Incidence Rate of Ischemic Heart Disease')"
   ]
  },
  {
   "cell_type": "code",
   "execution_count": 62,
   "metadata": {},
   "outputs": [
    {
     "name": "stderr",
     "output_type": "stream",
     "text": [
      "C:\\Users\\HP\\AppData\\Local\\Temp\\ipykernel_12716\\2822330716.py:13: DeprecationWarning: Starting with ImageIO v3 the behavior of this function will switch to that of iio.v3.imread. To keep the current behavior (and make this warning disappear) use `import imageio.v2 as imageio` or call `imageio.v2.imread` directly.\n",
      "  image = imageio.imread(filename)\n"
     ]
    }
   ],
   "source": [
    "df = pd.read_csv('../data/final/gbd_ihd_stroke.csv')\n",
    "df['iso_a3'] = df['location_name'].apply(get_iso3_gbd)\n",
    "df = df[df['measure_name'] == 'Deaths']\n",
    "df = df[df['cause_name'] == 'Stroke']\n",
    "generate_animation(df, country_col='iso_a3', measured_col='val', label='Death Rate', gif_name='stroke_deaths', title='Death Rate due to Stroke')"
   ]
  },
  {
   "cell_type": "code",
   "execution_count": 63,
   "metadata": {},
   "outputs": [
    {
     "name": "stderr",
     "output_type": "stream",
     "text": [
      "C:\\Users\\HP\\AppData\\Local\\Temp\\ipykernel_12716\\2822330716.py:13: DeprecationWarning: Starting with ImageIO v3 the behavior of this function will switch to that of iio.v3.imread. To keep the current behavior (and make this warning disappear) use `import imageio.v2 as imageio` or call `imageio.v2.imread` directly.\n",
      "  image = imageio.imread(filename)\n"
     ]
    }
   ],
   "source": [
    "df = pd.read_csv('../data/final/gbd_ihd_stroke.csv')\n",
    "df['iso_a3'] = df['location_name'].apply(get_iso3_gbd)\n",
    "df = df[df['measure_name'] == 'Incidence']\n",
    "df = df[df['cause_name'] == 'Stroke']\n",
    "generate_animation(df, country_col='iso_a3', measured_col='val', label='Incidence Rate', gif_name='stroke_incidence', title='Incidence rate of Stroke')"
   ]
  }
 ],
 "metadata": {
  "kernelspec": {
   "display_name": "Python 3.7.11 ('py3')",
   "language": "python",
   "name": "python3"
  },
  "language_info": {
   "codemirror_mode": {
    "name": "ipython",
    "version": 3
   },
   "file_extension": ".py",
   "mimetype": "text/x-python",
   "name": "python",
   "nbconvert_exporter": "python",
   "pygments_lexer": "ipython3",
   "version": "3.10.0"
  },
  "orig_nbformat": 4,
  "vscode": {
   "interpreter": {
    "hash": "d7b89e158b719c02a21186c9646700ecf5a8cc5b1b6f738df9b6ffa75e5e74e4"
   }
  }
 },
 "nbformat": 4,
 "nbformat_minor": 2
}
